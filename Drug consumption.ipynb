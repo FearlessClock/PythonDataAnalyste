{
 "cells": [
  {
   "cell_type": "markdown",
   "metadata": {},
   "source": [
    "## Data analyste - Drug consumption"
   ]
  },
  {
   "cell_type": "markdown",
   "metadata": {},
   "source": [
    "# Modelisation\n"
   ]
  },
  {
   "cell_type": "code",
   "execution_count": 5,
   "metadata": {},
   "outputs": [],
   "source": [
    "import pandas as pd\n",
    "%matplotlib inline\n",
    "import seaborn as sns\n",
    "import math\n",
    "from matplotlib import pyplot as plt"
   ]
  },
  {
   "cell_type": "code",
   "execution_count": 6,
   "metadata": {},
   "outputs": [],
   "source": [
    "def despine_ax(ax):\n",
    "    \"\"\"\n",
    "    Enlève les contours d'un axe dans une figure.\n",
    "    \"\"\"\n",
    "    for spine in ax.spines.values():\n",
    "        spine.set_visible(False)"
   ]
  },
  {
   "cell_type": "code",
   "execution_count": 7,
   "metadata": {},
   "outputs": [],
   "source": [
    "path = \"drug_consumption.data\"\n",
    "drugs = pd.read_csv(path, header=None, encoding=\"latin1\")"
   ]
  },
  {
   "cell_type": "code",
   "execution_count": 8,
   "metadata": {},
   "outputs": [
    {
     "name": "stdout",
     "output_type": "stream",
     "text": [
      "<class 'pandas.core.frame.DataFrame'>\n",
      "RangeIndex: 1885 entries, 0 to 1884\n",
      "Data columns (total 32 columns):\n",
      "0     1885 non-null int64\n",
      "1     1885 non-null float64\n",
      "2     1885 non-null float64\n",
      "3     1885 non-null float64\n",
      "4     1885 non-null float64\n",
      "5     1885 non-null float64\n",
      "6     1885 non-null float64\n",
      "7     1885 non-null float64\n",
      "8     1885 non-null float64\n",
      "9     1885 non-null float64\n",
      "10    1885 non-null float64\n",
      "11    1885 non-null float64\n",
      "12    1885 non-null float64\n",
      "13    1885 non-null object\n",
      "14    1885 non-null object\n",
      "15    1885 non-null object\n",
      "16    1885 non-null object\n",
      "17    1885 non-null object\n",
      "18    1885 non-null object\n",
      "19    1885 non-null object\n",
      "20    1885 non-null object\n",
      "21    1885 non-null object\n",
      "22    1885 non-null object\n",
      "23    1885 non-null object\n",
      "24    1885 non-null object\n",
      "25    1885 non-null object\n",
      "26    1885 non-null object\n",
      "27    1885 non-null object\n",
      "28    1885 non-null object\n",
      "29    1885 non-null object\n",
      "30    1885 non-null object\n",
      "31    1885 non-null object\n",
      "dtypes: float64(12), int64(1), object(19)\n",
      "memory usage: 471.3+ KB\n",
      "None\n"
     ]
    }
   ],
   "source": [
    "print(drugs.info())"
   ]
  },
  {
   "cell_type": "code",
   "execution_count": null,
   "metadata": {},
   "outputs": [],
   "source": []
  },
  {
   "cell_type": "code",
   "execution_count": 9,
   "metadata": {},
   "outputs": [
    {
     "data": {
      "text/html": [
       "<div>\n",
       "<style scoped>\n",
       "    .dataframe tbody tr th:only-of-type {\n",
       "        vertical-align: middle;\n",
       "    }\n",
       "\n",
       "    .dataframe tbody tr th {\n",
       "        vertical-align: top;\n",
       "    }\n",
       "\n",
       "    .dataframe thead th {\n",
       "        text-align: right;\n",
       "    }\n",
       "</style>\n",
       "<table border=\"1\" class=\"dataframe\">\n",
       "  <thead>\n",
       "    <tr style=\"text-align: right;\">\n",
       "      <th></th>\n",
       "      <th>0</th>\n",
       "      <th>1</th>\n",
       "      <th>2</th>\n",
       "      <th>3</th>\n",
       "      <th>4</th>\n",
       "      <th>5</th>\n",
       "      <th>6</th>\n",
       "      <th>7</th>\n",
       "      <th>8</th>\n",
       "      <th>9</th>\n",
       "      <th>...</th>\n",
       "      <th>22</th>\n",
       "      <th>23</th>\n",
       "      <th>24</th>\n",
       "      <th>25</th>\n",
       "      <th>26</th>\n",
       "      <th>27</th>\n",
       "      <th>28</th>\n",
       "      <th>29</th>\n",
       "      <th>30</th>\n",
       "      <th>31</th>\n",
       "    </tr>\n",
       "  </thead>\n",
       "  <tbody>\n",
       "    <tr>\n",
       "      <th>0</th>\n",
       "      <td>1</td>\n",
       "      <td>0.49788</td>\n",
       "      <td>0.48246</td>\n",
       "      <td>-0.05921</td>\n",
       "      <td>0.96082</td>\n",
       "      <td>0.12600</td>\n",
       "      <td>0.31287</td>\n",
       "      <td>-0.57545</td>\n",
       "      <td>-0.58331</td>\n",
       "      <td>-0.91699</td>\n",
       "      <td>...</td>\n",
       "      <td>CL0</td>\n",
       "      <td>CL0</td>\n",
       "      <td>CL0</td>\n",
       "      <td>CL0</td>\n",
       "      <td>CL0</td>\n",
       "      <td>CL0</td>\n",
       "      <td>CL0</td>\n",
       "      <td>CL2</td>\n",
       "      <td>CL0</td>\n",
       "      <td>CL0</td>\n",
       "    </tr>\n",
       "    <tr>\n",
       "      <th>1</th>\n",
       "      <td>2</td>\n",
       "      <td>-0.07854</td>\n",
       "      <td>-0.48246</td>\n",
       "      <td>1.98437</td>\n",
       "      <td>0.96082</td>\n",
       "      <td>-0.31685</td>\n",
       "      <td>-0.67825</td>\n",
       "      <td>1.93886</td>\n",
       "      <td>1.43533</td>\n",
       "      <td>0.76096</td>\n",
       "      <td>...</td>\n",
       "      <td>CL4</td>\n",
       "      <td>CL0</td>\n",
       "      <td>CL2</td>\n",
       "      <td>CL0</td>\n",
       "      <td>CL2</td>\n",
       "      <td>CL3</td>\n",
       "      <td>CL0</td>\n",
       "      <td>CL4</td>\n",
       "      <td>CL0</td>\n",
       "      <td>CL0</td>\n",
       "    </tr>\n",
       "    <tr>\n",
       "      <th>2</th>\n",
       "      <td>3</td>\n",
       "      <td>0.49788</td>\n",
       "      <td>-0.48246</td>\n",
       "      <td>-0.05921</td>\n",
       "      <td>0.96082</td>\n",
       "      <td>-0.31685</td>\n",
       "      <td>-0.46725</td>\n",
       "      <td>0.80523</td>\n",
       "      <td>-0.84732</td>\n",
       "      <td>-1.62090</td>\n",
       "      <td>...</td>\n",
       "      <td>CL0</td>\n",
       "      <td>CL0</td>\n",
       "      <td>CL0</td>\n",
       "      <td>CL0</td>\n",
       "      <td>CL0</td>\n",
       "      <td>CL0</td>\n",
       "      <td>CL1</td>\n",
       "      <td>CL0</td>\n",
       "      <td>CL0</td>\n",
       "      <td>CL0</td>\n",
       "    </tr>\n",
       "    <tr>\n",
       "      <th>3</th>\n",
       "      <td>4</td>\n",
       "      <td>-0.95197</td>\n",
       "      <td>0.48246</td>\n",
       "      <td>1.16365</td>\n",
       "      <td>0.96082</td>\n",
       "      <td>-0.31685</td>\n",
       "      <td>-0.14882</td>\n",
       "      <td>-0.80615</td>\n",
       "      <td>-0.01928</td>\n",
       "      <td>0.59042</td>\n",
       "      <td>...</td>\n",
       "      <td>CL0</td>\n",
       "      <td>CL0</td>\n",
       "      <td>CL2</td>\n",
       "      <td>CL0</td>\n",
       "      <td>CL0</td>\n",
       "      <td>CL0</td>\n",
       "      <td>CL0</td>\n",
       "      <td>CL2</td>\n",
       "      <td>CL0</td>\n",
       "      <td>CL0</td>\n",
       "    </tr>\n",
       "    <tr>\n",
       "      <th>4</th>\n",
       "      <td>5</td>\n",
       "      <td>0.49788</td>\n",
       "      <td>0.48246</td>\n",
       "      <td>1.98437</td>\n",
       "      <td>0.96082</td>\n",
       "      <td>-0.31685</td>\n",
       "      <td>0.73545</td>\n",
       "      <td>-1.63340</td>\n",
       "      <td>-0.45174</td>\n",
       "      <td>-0.30172</td>\n",
       "      <td>...</td>\n",
       "      <td>CL1</td>\n",
       "      <td>CL0</td>\n",
       "      <td>CL0</td>\n",
       "      <td>CL1</td>\n",
       "      <td>CL0</td>\n",
       "      <td>CL0</td>\n",
       "      <td>CL2</td>\n",
       "      <td>CL2</td>\n",
       "      <td>CL0</td>\n",
       "      <td>CL0</td>\n",
       "    </tr>\n",
       "  </tbody>\n",
       "</table>\n",
       "<p>5 rows × 32 columns</p>\n",
       "</div>"
      ],
      "text/plain": [
       "   0        1        2        3        4        5        6        7        8   \\\n",
       "0   1  0.49788  0.48246 -0.05921  0.96082  0.12600  0.31287 -0.57545 -0.58331   \n",
       "1   2 -0.07854 -0.48246  1.98437  0.96082 -0.31685 -0.67825  1.93886  1.43533   \n",
       "2   3  0.49788 -0.48246 -0.05921  0.96082 -0.31685 -0.46725  0.80523 -0.84732   \n",
       "3   4 -0.95197  0.48246  1.16365  0.96082 -0.31685 -0.14882 -0.80615 -0.01928   \n",
       "4   5  0.49788  0.48246  1.98437  0.96082 -0.31685  0.73545 -1.63340 -0.45174   \n",
       "\n",
       "        9  ...    22   23   24   25   26   27   28   29   30   31  \n",
       "0 -0.91699 ...   CL0  CL0  CL0  CL0  CL0  CL0  CL0  CL2  CL0  CL0  \n",
       "1  0.76096 ...   CL4  CL0  CL2  CL0  CL2  CL3  CL0  CL4  CL0  CL0  \n",
       "2 -1.62090 ...   CL0  CL0  CL0  CL0  CL0  CL0  CL1  CL0  CL0  CL0  \n",
       "3  0.59042 ...   CL0  CL0  CL2  CL0  CL0  CL0  CL0  CL2  CL0  CL0  \n",
       "4 -0.30172 ...   CL1  CL0  CL0  CL1  CL0  CL0  CL2  CL2  CL0  CL0  \n",
       "\n",
       "[5 rows x 32 columns]"
      ]
     },
     "execution_count": 9,
     "metadata": {},
     "output_type": "execute_result"
    }
   ],
   "source": [
    "drugs.head()"
   ]
  },
  {
   "cell_type": "code",
   "execution_count": 10,
   "metadata": {},
   "outputs": [
    {
     "data": {
      "text/plain": [
       "Int64Index([ 0,  1,  2,  3,  4,  5,  6,  7,  8,  9, 10, 11, 12, 13, 14, 15, 16,\n",
       "            17, 18, 19, 20, 21, 22, 23, 24, 25, 26, 27, 28, 29, 30, 31],\n",
       "           dtype='int64')"
      ]
     },
     "execution_count": 10,
     "metadata": {},
     "output_type": "execute_result"
    }
   ],
   "source": [
    "drugs.columns"
   ]
  },
  {
   "cell_type": "code",
   "execution_count": 11,
   "metadata": {},
   "outputs": [],
   "source": [
    "nouvelles_columns = ['Ref', 'Age', 'Gender', 'Education', 'Country', 'Ethnicity', 'Nscore', 'Escore', 'Oscore', 'Ascore', 'Cscore', 'Impulsive', 'SS', 'Alcohol', 'Amphet', 'Amyl', 'Benzos', 'Caff', 'Cannabis', 'Choc', 'Coke', 'Crack', 'Ecstasy',  'Heroin', 'Ketamine', 'Legalh', 'LSD', 'Meth', 'Mushrooms', 'Nicotine', 'Semeron', 'VSA']"
   ]
  },
  {
   "cell_type": "code",
   "execution_count": 12,
   "metadata": {},
   "outputs": [
    {
     "data": {
      "text/plain": [
       "[('Ref', 0),\n",
       " ('Age', 1),\n",
       " ('Gender', 2),\n",
       " ('Education', 3),\n",
       " ('Country', 4),\n",
       " ('Ethnicity', 5),\n",
       " ('Nscore', 6),\n",
       " ('Escore', 7),\n",
       " ('Oscore', 8),\n",
       " ('Ascore', 9),\n",
       " ('Cscore', 10),\n",
       " ('Impulsive', 11),\n",
       " ('SS', 12),\n",
       " ('Alcohol', 13),\n",
       " ('Amphet', 14),\n",
       " ('Amyl', 15),\n",
       " ('Benzos', 16),\n",
       " ('Caff', 17),\n",
       " ('Cannabis', 18),\n",
       " ('Choc', 19),\n",
       " ('Coke', 20),\n",
       " ('Crack', 21),\n",
       " ('Ecstasy', 22),\n",
       " ('Heroin', 23),\n",
       " ('Ketamine', 24),\n",
       " ('Legalh', 25),\n",
       " ('LSD', 26),\n",
       " ('Meth', 27),\n",
       " ('Mushrooms', 28),\n",
       " ('Nicotine', 29),\n",
       " ('Semeron', 30),\n",
       " ('VSA', 31)]"
      ]
     },
     "execution_count": 12,
     "metadata": {},
     "output_type": "execute_result"
    }
   ],
   "source": [
    "list(zip(nouvelles_columns, drugs.columns))"
   ]
  },
  {
   "cell_type": "code",
   "execution_count": 13,
   "metadata": {},
   "outputs": [],
   "source": [
    "drugs.columns = nouvelles_columns"
   ]
  },
  {
   "cell_type": "code",
   "execution_count": 14,
   "metadata": {},
   "outputs": [
    {
     "data": {
      "text/html": [
       "<div>\n",
       "<style scoped>\n",
       "    .dataframe tbody tr th:only-of-type {\n",
       "        vertical-align: middle;\n",
       "    }\n",
       "\n",
       "    .dataframe tbody tr th {\n",
       "        vertical-align: top;\n",
       "    }\n",
       "\n",
       "    .dataframe thead th {\n",
       "        text-align: right;\n",
       "    }\n",
       "</style>\n",
       "<table border=\"1\" class=\"dataframe\">\n",
       "  <thead>\n",
       "    <tr style=\"text-align: right;\">\n",
       "      <th></th>\n",
       "      <th>Ref</th>\n",
       "      <th>Age</th>\n",
       "      <th>Gender</th>\n",
       "      <th>Education</th>\n",
       "      <th>Country</th>\n",
       "      <th>Ethnicity</th>\n",
       "      <th>Nscore</th>\n",
       "      <th>Escore</th>\n",
       "      <th>Oscore</th>\n",
       "      <th>Ascore</th>\n",
       "      <th>...</th>\n",
       "      <th>Ecstasy</th>\n",
       "      <th>Heroin</th>\n",
       "      <th>Ketamine</th>\n",
       "      <th>Legalh</th>\n",
       "      <th>LSD</th>\n",
       "      <th>Meth</th>\n",
       "      <th>Mushrooms</th>\n",
       "      <th>Nicotine</th>\n",
       "      <th>Semeron</th>\n",
       "      <th>VSA</th>\n",
       "    </tr>\n",
       "  </thead>\n",
       "  <tbody>\n",
       "    <tr>\n",
       "      <th>0</th>\n",
       "      <td>1</td>\n",
       "      <td>0.49788</td>\n",
       "      <td>0.48246</td>\n",
       "      <td>-0.05921</td>\n",
       "      <td>0.96082</td>\n",
       "      <td>0.12600</td>\n",
       "      <td>0.31287</td>\n",
       "      <td>-0.57545</td>\n",
       "      <td>-0.58331</td>\n",
       "      <td>-0.91699</td>\n",
       "      <td>...</td>\n",
       "      <td>CL0</td>\n",
       "      <td>CL0</td>\n",
       "      <td>CL0</td>\n",
       "      <td>CL0</td>\n",
       "      <td>CL0</td>\n",
       "      <td>CL0</td>\n",
       "      <td>CL0</td>\n",
       "      <td>CL2</td>\n",
       "      <td>CL0</td>\n",
       "      <td>CL0</td>\n",
       "    </tr>\n",
       "    <tr>\n",
       "      <th>1</th>\n",
       "      <td>2</td>\n",
       "      <td>-0.07854</td>\n",
       "      <td>-0.48246</td>\n",
       "      <td>1.98437</td>\n",
       "      <td>0.96082</td>\n",
       "      <td>-0.31685</td>\n",
       "      <td>-0.67825</td>\n",
       "      <td>1.93886</td>\n",
       "      <td>1.43533</td>\n",
       "      <td>0.76096</td>\n",
       "      <td>...</td>\n",
       "      <td>CL4</td>\n",
       "      <td>CL0</td>\n",
       "      <td>CL2</td>\n",
       "      <td>CL0</td>\n",
       "      <td>CL2</td>\n",
       "      <td>CL3</td>\n",
       "      <td>CL0</td>\n",
       "      <td>CL4</td>\n",
       "      <td>CL0</td>\n",
       "      <td>CL0</td>\n",
       "    </tr>\n",
       "    <tr>\n",
       "      <th>2</th>\n",
       "      <td>3</td>\n",
       "      <td>0.49788</td>\n",
       "      <td>-0.48246</td>\n",
       "      <td>-0.05921</td>\n",
       "      <td>0.96082</td>\n",
       "      <td>-0.31685</td>\n",
       "      <td>-0.46725</td>\n",
       "      <td>0.80523</td>\n",
       "      <td>-0.84732</td>\n",
       "      <td>-1.62090</td>\n",
       "      <td>...</td>\n",
       "      <td>CL0</td>\n",
       "      <td>CL0</td>\n",
       "      <td>CL0</td>\n",
       "      <td>CL0</td>\n",
       "      <td>CL0</td>\n",
       "      <td>CL0</td>\n",
       "      <td>CL1</td>\n",
       "      <td>CL0</td>\n",
       "      <td>CL0</td>\n",
       "      <td>CL0</td>\n",
       "    </tr>\n",
       "    <tr>\n",
       "      <th>3</th>\n",
       "      <td>4</td>\n",
       "      <td>-0.95197</td>\n",
       "      <td>0.48246</td>\n",
       "      <td>1.16365</td>\n",
       "      <td>0.96082</td>\n",
       "      <td>-0.31685</td>\n",
       "      <td>-0.14882</td>\n",
       "      <td>-0.80615</td>\n",
       "      <td>-0.01928</td>\n",
       "      <td>0.59042</td>\n",
       "      <td>...</td>\n",
       "      <td>CL0</td>\n",
       "      <td>CL0</td>\n",
       "      <td>CL2</td>\n",
       "      <td>CL0</td>\n",
       "      <td>CL0</td>\n",
       "      <td>CL0</td>\n",
       "      <td>CL0</td>\n",
       "      <td>CL2</td>\n",
       "      <td>CL0</td>\n",
       "      <td>CL0</td>\n",
       "    </tr>\n",
       "    <tr>\n",
       "      <th>4</th>\n",
       "      <td>5</td>\n",
       "      <td>0.49788</td>\n",
       "      <td>0.48246</td>\n",
       "      <td>1.98437</td>\n",
       "      <td>0.96082</td>\n",
       "      <td>-0.31685</td>\n",
       "      <td>0.73545</td>\n",
       "      <td>-1.63340</td>\n",
       "      <td>-0.45174</td>\n",
       "      <td>-0.30172</td>\n",
       "      <td>...</td>\n",
       "      <td>CL1</td>\n",
       "      <td>CL0</td>\n",
       "      <td>CL0</td>\n",
       "      <td>CL1</td>\n",
       "      <td>CL0</td>\n",
       "      <td>CL0</td>\n",
       "      <td>CL2</td>\n",
       "      <td>CL2</td>\n",
       "      <td>CL0</td>\n",
       "      <td>CL0</td>\n",
       "    </tr>\n",
       "  </tbody>\n",
       "</table>\n",
       "<p>5 rows × 32 columns</p>\n",
       "</div>"
      ],
      "text/plain": [
       "   Ref      Age   Gender  Education  Country  Ethnicity   Nscore   Escore  \\\n",
       "0    1  0.49788  0.48246   -0.05921  0.96082    0.12600  0.31287 -0.57545   \n",
       "1    2 -0.07854 -0.48246    1.98437  0.96082   -0.31685 -0.67825  1.93886   \n",
       "2    3  0.49788 -0.48246   -0.05921  0.96082   -0.31685 -0.46725  0.80523   \n",
       "3    4 -0.95197  0.48246    1.16365  0.96082   -0.31685 -0.14882 -0.80615   \n",
       "4    5  0.49788  0.48246    1.98437  0.96082   -0.31685  0.73545 -1.63340   \n",
       "\n",
       "    Oscore   Ascore ...   Ecstasy  Heroin  Ketamine Legalh  LSD Meth  \\\n",
       "0 -0.58331 -0.91699 ...       CL0     CL0       CL0    CL0  CL0  CL0   \n",
       "1  1.43533  0.76096 ...       CL4     CL0       CL2    CL0  CL2  CL3   \n",
       "2 -0.84732 -1.62090 ...       CL0     CL0       CL0    CL0  CL0  CL0   \n",
       "3 -0.01928  0.59042 ...       CL0     CL0       CL2    CL0  CL0  CL0   \n",
       "4 -0.45174 -0.30172 ...       CL1     CL0       CL0    CL1  CL0  CL0   \n",
       "\n",
       "  Mushrooms Nicotine Semeron  VSA  \n",
       "0       CL0      CL2     CL0  CL0  \n",
       "1       CL0      CL4     CL0  CL0  \n",
       "2       CL1      CL0     CL0  CL0  \n",
       "3       CL0      CL2     CL0  CL0  \n",
       "4       CL2      CL2     CL0  CL0  \n",
       "\n",
       "[5 rows x 32 columns]"
      ]
     },
     "execution_count": 14,
     "metadata": {},
     "output_type": "execute_result"
    }
   ],
   "source": [
    "drugs.head()"
   ]
  },
  {
   "cell_type": "code",
   "execution_count": 15,
   "metadata": {},
   "outputs": [
    {
     "data": {
      "text/plain": [
       "0.49788000000000004"
      ]
     },
     "execution_count": 15,
     "metadata": {},
     "output_type": "execute_result"
    }
   ],
   "source": [
    "drugs.Age[0]"
   ]
  },
  {
   "cell_type": "code",
   "execution_count": 16,
   "metadata": {},
   "outputs": [
    {
     "data": {
      "text/plain": [
       "{-0.9519700000000001: '18-24',\n",
       " -0.07854: '25-34',\n",
       " 0.49788000000000004: '35-44',\n",
       " 1.09449: '45-54',\n",
       " 1.82213: '55-64',\n",
       " 2.59171: '65+'}"
      ]
     },
     "execution_count": 16,
     "metadata": {},
     "output_type": "execute_result"
    }
   ],
   "source": [
    "AgeRanges = {\n",
    "    -0.9519700000000001 : \"18-24\",\n",
    "    -0.07854 : \"25-34\",\n",
    "    0.49788000000000004 : \"35-44\",\n",
    "    1.09449 : \"45-54\",\n",
    "    1.82213 : \"55-64\", \n",
    "    2.59171 : \"65+\"\n",
    "}\n",
    "AgeRanges"
   ]
  },
  {
   "cell_type": "code",
   "execution_count": 17,
   "metadata": {},
   "outputs": [
    {
     "data": {
      "text/html": [
       "<div>\n",
       "<style scoped>\n",
       "    .dataframe tbody tr th:only-of-type {\n",
       "        vertical-align: middle;\n",
       "    }\n",
       "\n",
       "    .dataframe tbody tr th {\n",
       "        vertical-align: top;\n",
       "    }\n",
       "\n",
       "    .dataframe thead th {\n",
       "        text-align: right;\n",
       "    }\n",
       "</style>\n",
       "<table border=\"1\" class=\"dataframe\">\n",
       "  <thead>\n",
       "    <tr style=\"text-align: right;\">\n",
       "      <th></th>\n",
       "      <th>Ref</th>\n",
       "      <th>Age</th>\n",
       "      <th>Gender</th>\n",
       "      <th>Education</th>\n",
       "      <th>Country</th>\n",
       "      <th>Ethnicity</th>\n",
       "      <th>Nscore</th>\n",
       "      <th>Escore</th>\n",
       "      <th>Oscore</th>\n",
       "      <th>Ascore</th>\n",
       "      <th>...</th>\n",
       "      <th>Ecstasy</th>\n",
       "      <th>Heroin</th>\n",
       "      <th>Ketamine</th>\n",
       "      <th>Legalh</th>\n",
       "      <th>LSD</th>\n",
       "      <th>Meth</th>\n",
       "      <th>Mushrooms</th>\n",
       "      <th>Nicotine</th>\n",
       "      <th>Semeron</th>\n",
       "      <th>VSA</th>\n",
       "    </tr>\n",
       "  </thead>\n",
       "  <tbody>\n",
       "    <tr>\n",
       "      <th>0</th>\n",
       "      <td>1</td>\n",
       "      <td>35-44</td>\n",
       "      <td>0.48246</td>\n",
       "      <td>-0.05921</td>\n",
       "      <td>0.96082</td>\n",
       "      <td>0.12600</td>\n",
       "      <td>0.31287</td>\n",
       "      <td>-0.57545</td>\n",
       "      <td>-0.58331</td>\n",
       "      <td>-0.91699</td>\n",
       "      <td>...</td>\n",
       "      <td>CL0</td>\n",
       "      <td>CL0</td>\n",
       "      <td>CL0</td>\n",
       "      <td>CL0</td>\n",
       "      <td>CL0</td>\n",
       "      <td>CL0</td>\n",
       "      <td>CL0</td>\n",
       "      <td>CL2</td>\n",
       "      <td>CL0</td>\n",
       "      <td>CL0</td>\n",
       "    </tr>\n",
       "    <tr>\n",
       "      <th>1</th>\n",
       "      <td>2</td>\n",
       "      <td>25-34</td>\n",
       "      <td>-0.48246</td>\n",
       "      <td>1.98437</td>\n",
       "      <td>0.96082</td>\n",
       "      <td>-0.31685</td>\n",
       "      <td>-0.67825</td>\n",
       "      <td>1.93886</td>\n",
       "      <td>1.43533</td>\n",
       "      <td>0.76096</td>\n",
       "      <td>...</td>\n",
       "      <td>CL4</td>\n",
       "      <td>CL0</td>\n",
       "      <td>CL2</td>\n",
       "      <td>CL0</td>\n",
       "      <td>CL2</td>\n",
       "      <td>CL3</td>\n",
       "      <td>CL0</td>\n",
       "      <td>CL4</td>\n",
       "      <td>CL0</td>\n",
       "      <td>CL0</td>\n",
       "    </tr>\n",
       "    <tr>\n",
       "      <th>2</th>\n",
       "      <td>3</td>\n",
       "      <td>35-44</td>\n",
       "      <td>-0.48246</td>\n",
       "      <td>-0.05921</td>\n",
       "      <td>0.96082</td>\n",
       "      <td>-0.31685</td>\n",
       "      <td>-0.46725</td>\n",
       "      <td>0.80523</td>\n",
       "      <td>-0.84732</td>\n",
       "      <td>-1.62090</td>\n",
       "      <td>...</td>\n",
       "      <td>CL0</td>\n",
       "      <td>CL0</td>\n",
       "      <td>CL0</td>\n",
       "      <td>CL0</td>\n",
       "      <td>CL0</td>\n",
       "      <td>CL0</td>\n",
       "      <td>CL1</td>\n",
       "      <td>CL0</td>\n",
       "      <td>CL0</td>\n",
       "      <td>CL0</td>\n",
       "    </tr>\n",
       "    <tr>\n",
       "      <th>3</th>\n",
       "      <td>4</td>\n",
       "      <td>18-24</td>\n",
       "      <td>0.48246</td>\n",
       "      <td>1.16365</td>\n",
       "      <td>0.96082</td>\n",
       "      <td>-0.31685</td>\n",
       "      <td>-0.14882</td>\n",
       "      <td>-0.80615</td>\n",
       "      <td>-0.01928</td>\n",
       "      <td>0.59042</td>\n",
       "      <td>...</td>\n",
       "      <td>CL0</td>\n",
       "      <td>CL0</td>\n",
       "      <td>CL2</td>\n",
       "      <td>CL0</td>\n",
       "      <td>CL0</td>\n",
       "      <td>CL0</td>\n",
       "      <td>CL0</td>\n",
       "      <td>CL2</td>\n",
       "      <td>CL0</td>\n",
       "      <td>CL0</td>\n",
       "    </tr>\n",
       "    <tr>\n",
       "      <th>4</th>\n",
       "      <td>5</td>\n",
       "      <td>35-44</td>\n",
       "      <td>0.48246</td>\n",
       "      <td>1.98437</td>\n",
       "      <td>0.96082</td>\n",
       "      <td>-0.31685</td>\n",
       "      <td>0.73545</td>\n",
       "      <td>-1.63340</td>\n",
       "      <td>-0.45174</td>\n",
       "      <td>-0.30172</td>\n",
       "      <td>...</td>\n",
       "      <td>CL1</td>\n",
       "      <td>CL0</td>\n",
       "      <td>CL0</td>\n",
       "      <td>CL1</td>\n",
       "      <td>CL0</td>\n",
       "      <td>CL0</td>\n",
       "      <td>CL2</td>\n",
       "      <td>CL2</td>\n",
       "      <td>CL0</td>\n",
       "      <td>CL0</td>\n",
       "    </tr>\n",
       "  </tbody>\n",
       "</table>\n",
       "<p>5 rows × 32 columns</p>\n",
       "</div>"
      ],
      "text/plain": [
       "   Ref    Age   Gender  Education  Country  Ethnicity   Nscore   Escore  \\\n",
       "0    1  35-44  0.48246   -0.05921  0.96082    0.12600  0.31287 -0.57545   \n",
       "1    2  25-34 -0.48246    1.98437  0.96082   -0.31685 -0.67825  1.93886   \n",
       "2    3  35-44 -0.48246   -0.05921  0.96082   -0.31685 -0.46725  0.80523   \n",
       "3    4  18-24  0.48246    1.16365  0.96082   -0.31685 -0.14882 -0.80615   \n",
       "4    5  35-44  0.48246    1.98437  0.96082   -0.31685  0.73545 -1.63340   \n",
       "\n",
       "    Oscore   Ascore ...   Ecstasy  Heroin  Ketamine Legalh  LSD Meth  \\\n",
       "0 -0.58331 -0.91699 ...       CL0     CL0       CL0    CL0  CL0  CL0   \n",
       "1  1.43533  0.76096 ...       CL4     CL0       CL2    CL0  CL2  CL3   \n",
       "2 -0.84732 -1.62090 ...       CL0     CL0       CL0    CL0  CL0  CL0   \n",
       "3 -0.01928  0.59042 ...       CL0     CL0       CL2    CL0  CL0  CL0   \n",
       "4 -0.45174 -0.30172 ...       CL1     CL0       CL0    CL1  CL0  CL0   \n",
       "\n",
       "  Mushrooms Nicotine Semeron  VSA  \n",
       "0       CL0      CL2     CL0  CL0  \n",
       "1       CL0      CL4     CL0  CL0  \n",
       "2       CL1      CL0     CL0  CL0  \n",
       "3       CL0      CL2     CL0  CL0  \n",
       "4       CL2      CL2     CL0  CL0  \n",
       "\n",
       "[5 rows x 32 columns]"
      ]
     },
     "execution_count": 17,
     "metadata": {},
     "output_type": "execute_result"
    }
   ],
   "source": [
    "drugs[\"Age\"]=drugs.Age.map(AgeRanges)\n",
    "drugs[\"Age\"] = drugs[\"Age\"].astype(\"category\")\n",
    "drugs.head()"
   ]
  },
  {
   "cell_type": "code",
   "execution_count": 18,
   "metadata": {},
   "outputs": [
    {
     "data": {
      "text/plain": [
       "{0.48246000000000006: 'Female', -0.48246000000000006: 'Male'}"
      ]
     },
     "execution_count": 18,
     "metadata": {},
     "output_type": "execute_result"
    }
   ],
   "source": [
    "GenderValues = {\n",
    "    0.48246000000000006 : \"Female\",\n",
    "    -0.48246000000000006: \"Male\"\n",
    "}\n",
    "GenderValues"
   ]
  },
  {
   "cell_type": "code",
   "execution_count": 19,
   "metadata": {},
   "outputs": [],
   "source": [
    "drugs[\"Gender\"] = drugs.Gender.map(GenderValues)\n",
    "drugs[\"Gender\"] = drugs[\"Gender\"].astype(\"category\")"
   ]
  },
  {
   "cell_type": "code",
   "execution_count": 20,
   "metadata": {},
   "outputs": [
    {
     "data": {
      "text/html": [
       "<div>\n",
       "<style scoped>\n",
       "    .dataframe tbody tr th:only-of-type {\n",
       "        vertical-align: middle;\n",
       "    }\n",
       "\n",
       "    .dataframe tbody tr th {\n",
       "        vertical-align: top;\n",
       "    }\n",
       "\n",
       "    .dataframe thead th {\n",
       "        text-align: right;\n",
       "    }\n",
       "</style>\n",
       "<table border=\"1\" class=\"dataframe\">\n",
       "  <thead>\n",
       "    <tr style=\"text-align: right;\">\n",
       "      <th></th>\n",
       "      <th>Ref</th>\n",
       "      <th>Age</th>\n",
       "      <th>Gender</th>\n",
       "      <th>Education</th>\n",
       "      <th>Country</th>\n",
       "      <th>Ethnicity</th>\n",
       "      <th>Nscore</th>\n",
       "      <th>Escore</th>\n",
       "      <th>Oscore</th>\n",
       "      <th>Ascore</th>\n",
       "      <th>...</th>\n",
       "      <th>Ecstasy</th>\n",
       "      <th>Heroin</th>\n",
       "      <th>Ketamine</th>\n",
       "      <th>Legalh</th>\n",
       "      <th>LSD</th>\n",
       "      <th>Meth</th>\n",
       "      <th>Mushrooms</th>\n",
       "      <th>Nicotine</th>\n",
       "      <th>Semeron</th>\n",
       "      <th>VSA</th>\n",
       "    </tr>\n",
       "  </thead>\n",
       "  <tbody>\n",
       "    <tr>\n",
       "      <th>0</th>\n",
       "      <td>1</td>\n",
       "      <td>35-44</td>\n",
       "      <td>Female</td>\n",
       "      <td>-0.05921</td>\n",
       "      <td>0.96082</td>\n",
       "      <td>0.12600</td>\n",
       "      <td>0.31287</td>\n",
       "      <td>-0.57545</td>\n",
       "      <td>-0.58331</td>\n",
       "      <td>-0.91699</td>\n",
       "      <td>...</td>\n",
       "      <td>CL0</td>\n",
       "      <td>CL0</td>\n",
       "      <td>CL0</td>\n",
       "      <td>CL0</td>\n",
       "      <td>CL0</td>\n",
       "      <td>CL0</td>\n",
       "      <td>CL0</td>\n",
       "      <td>CL2</td>\n",
       "      <td>CL0</td>\n",
       "      <td>CL0</td>\n",
       "    </tr>\n",
       "    <tr>\n",
       "      <th>1</th>\n",
       "      <td>2</td>\n",
       "      <td>25-34</td>\n",
       "      <td>Male</td>\n",
       "      <td>1.98437</td>\n",
       "      <td>0.96082</td>\n",
       "      <td>-0.31685</td>\n",
       "      <td>-0.67825</td>\n",
       "      <td>1.93886</td>\n",
       "      <td>1.43533</td>\n",
       "      <td>0.76096</td>\n",
       "      <td>...</td>\n",
       "      <td>CL4</td>\n",
       "      <td>CL0</td>\n",
       "      <td>CL2</td>\n",
       "      <td>CL0</td>\n",
       "      <td>CL2</td>\n",
       "      <td>CL3</td>\n",
       "      <td>CL0</td>\n",
       "      <td>CL4</td>\n",
       "      <td>CL0</td>\n",
       "      <td>CL0</td>\n",
       "    </tr>\n",
       "    <tr>\n",
       "      <th>2</th>\n",
       "      <td>3</td>\n",
       "      <td>35-44</td>\n",
       "      <td>Male</td>\n",
       "      <td>-0.05921</td>\n",
       "      <td>0.96082</td>\n",
       "      <td>-0.31685</td>\n",
       "      <td>-0.46725</td>\n",
       "      <td>0.80523</td>\n",
       "      <td>-0.84732</td>\n",
       "      <td>-1.62090</td>\n",
       "      <td>...</td>\n",
       "      <td>CL0</td>\n",
       "      <td>CL0</td>\n",
       "      <td>CL0</td>\n",
       "      <td>CL0</td>\n",
       "      <td>CL0</td>\n",
       "      <td>CL0</td>\n",
       "      <td>CL1</td>\n",
       "      <td>CL0</td>\n",
       "      <td>CL0</td>\n",
       "      <td>CL0</td>\n",
       "    </tr>\n",
       "    <tr>\n",
       "      <th>3</th>\n",
       "      <td>4</td>\n",
       "      <td>18-24</td>\n",
       "      <td>Female</td>\n",
       "      <td>1.16365</td>\n",
       "      <td>0.96082</td>\n",
       "      <td>-0.31685</td>\n",
       "      <td>-0.14882</td>\n",
       "      <td>-0.80615</td>\n",
       "      <td>-0.01928</td>\n",
       "      <td>0.59042</td>\n",
       "      <td>...</td>\n",
       "      <td>CL0</td>\n",
       "      <td>CL0</td>\n",
       "      <td>CL2</td>\n",
       "      <td>CL0</td>\n",
       "      <td>CL0</td>\n",
       "      <td>CL0</td>\n",
       "      <td>CL0</td>\n",
       "      <td>CL2</td>\n",
       "      <td>CL0</td>\n",
       "      <td>CL0</td>\n",
       "    </tr>\n",
       "    <tr>\n",
       "      <th>4</th>\n",
       "      <td>5</td>\n",
       "      <td>35-44</td>\n",
       "      <td>Female</td>\n",
       "      <td>1.98437</td>\n",
       "      <td>0.96082</td>\n",
       "      <td>-0.31685</td>\n",
       "      <td>0.73545</td>\n",
       "      <td>-1.63340</td>\n",
       "      <td>-0.45174</td>\n",
       "      <td>-0.30172</td>\n",
       "      <td>...</td>\n",
       "      <td>CL1</td>\n",
       "      <td>CL0</td>\n",
       "      <td>CL0</td>\n",
       "      <td>CL1</td>\n",
       "      <td>CL0</td>\n",
       "      <td>CL0</td>\n",
       "      <td>CL2</td>\n",
       "      <td>CL2</td>\n",
       "      <td>CL0</td>\n",
       "      <td>CL0</td>\n",
       "    </tr>\n",
       "  </tbody>\n",
       "</table>\n",
       "<p>5 rows × 32 columns</p>\n",
       "</div>"
      ],
      "text/plain": [
       "   Ref    Age  Gender  Education  Country  Ethnicity   Nscore   Escore  \\\n",
       "0    1  35-44  Female   -0.05921  0.96082    0.12600  0.31287 -0.57545   \n",
       "1    2  25-34    Male    1.98437  0.96082   -0.31685 -0.67825  1.93886   \n",
       "2    3  35-44    Male   -0.05921  0.96082   -0.31685 -0.46725  0.80523   \n",
       "3    4  18-24  Female    1.16365  0.96082   -0.31685 -0.14882 -0.80615   \n",
       "4    5  35-44  Female    1.98437  0.96082   -0.31685  0.73545 -1.63340   \n",
       "\n",
       "    Oscore   Ascore ...   Ecstasy  Heroin  Ketamine Legalh  LSD Meth  \\\n",
       "0 -0.58331 -0.91699 ...       CL0     CL0       CL0    CL0  CL0  CL0   \n",
       "1  1.43533  0.76096 ...       CL4     CL0       CL2    CL0  CL2  CL3   \n",
       "2 -0.84732 -1.62090 ...       CL0     CL0       CL0    CL0  CL0  CL0   \n",
       "3 -0.01928  0.59042 ...       CL0     CL0       CL2    CL0  CL0  CL0   \n",
       "4 -0.45174 -0.30172 ...       CL1     CL0       CL0    CL1  CL0  CL0   \n",
       "\n",
       "  Mushrooms Nicotine Semeron  VSA  \n",
       "0       CL0      CL2     CL0  CL0  \n",
       "1       CL0      CL4     CL0  CL0  \n",
       "2       CL1      CL0     CL0  CL0  \n",
       "3       CL0      CL2     CL0  CL0  \n",
       "4       CL2      CL2     CL0  CL0  \n",
       "\n",
       "[5 rows x 32 columns]"
      ]
     },
     "execution_count": 20,
     "metadata": {},
     "output_type": "execute_result"
    }
   ],
   "source": [
    "drugs.head()"
   ]
  },
  {
   "cell_type": "code",
   "execution_count": 21,
   "metadata": {},
   "outputs": [],
   "source": [
    "tab = drugs.pivot_table(index=[\"Gender\"], \n",
    "                         columns=[\"Age\"],\n",
    "                         values=[\"Ref\"],\n",
    "                         aggfunc=\"count\",\n",
    "                         fill_value=0)"
   ]
  },
  {
   "cell_type": "code",
   "execution_count": 22,
   "metadata": {},
   "outputs": [
    {
     "data": {
      "text/html": [
       "<div>\n",
       "<style scoped>\n",
       "    .dataframe tbody tr th:only-of-type {\n",
       "        vertical-align: middle;\n",
       "    }\n",
       "\n",
       "    .dataframe tbody tr th {\n",
       "        vertical-align: top;\n",
       "    }\n",
       "\n",
       "    .dataframe thead tr th {\n",
       "        text-align: left;\n",
       "    }\n",
       "\n",
       "    .dataframe thead tr:last-of-type th {\n",
       "        text-align: right;\n",
       "    }\n",
       "</style>\n",
       "<table border=\"1\" class=\"dataframe\">\n",
       "  <thead>\n",
       "    <tr>\n",
       "      <th></th>\n",
       "      <th colspan=\"6\" halign=\"left\">Ref</th>\n",
       "    </tr>\n",
       "    <tr>\n",
       "      <th>Age</th>\n",
       "      <th>18-24</th>\n",
       "      <th>25-34</th>\n",
       "      <th>35-44</th>\n",
       "      <th>45-54</th>\n",
       "      <th>55-64</th>\n",
       "      <th>65+</th>\n",
       "    </tr>\n",
       "    <tr>\n",
       "      <th>Gender</th>\n",
       "      <th></th>\n",
       "      <th></th>\n",
       "      <th></th>\n",
       "      <th></th>\n",
       "      <th></th>\n",
       "      <th></th>\n",
       "    </tr>\n",
       "  </thead>\n",
       "  <tbody>\n",
       "    <tr>\n",
       "      <th>Female</th>\n",
       "      <td>237</td>\n",
       "      <td>294</td>\n",
       "      <td>202</td>\n",
       "      <td>158</td>\n",
       "      <td>43</td>\n",
       "      <td>8</td>\n",
       "    </tr>\n",
       "    <tr>\n",
       "      <th>Male</th>\n",
       "      <td>406</td>\n",
       "      <td>187</td>\n",
       "      <td>154</td>\n",
       "      <td>136</td>\n",
       "      <td>50</td>\n",
       "      <td>10</td>\n",
       "    </tr>\n",
       "  </tbody>\n",
       "</table>\n",
       "</div>"
      ],
      "text/plain": [
       "         Ref                            \n",
       "Age    18-24 25-34 35-44 45-54 55-64 65+\n",
       "Gender                                  \n",
       "Female   237   294   202   158    43   8\n",
       "Male     406   187   154   136    50  10"
      ]
     },
     "execution_count": 22,
     "metadata": {},
     "output_type": "execute_result"
    }
   ],
   "source": [
    "tab.head()"
   ]
  },
  {
   "cell_type": "code",
   "execution_count": 23,
   "metadata": {},
   "outputs": [
    {
     "data": {
      "text/plain": [
       "<matplotlib.axes._subplots.AxesSubplot at 0x1ec885644a8>"
      ]
     },
     "execution_count": 23,
     "metadata": {},
     "output_type": "execute_result"
    },
    {
     "data": {
      "image/png": "[encoded data removed]",
      "text/plain": [
       "<Figure size 432x288 with 2 Axes>"
      ]
     },
     "metadata": {
      "needs_background": "light"
     },
     "output_type": "display_data"
    }
   ],
   "source": [
    "sns.heatmap(tab)"
   ]
  },
  {
   "cell_type": "code",
   "execution_count": 24,
   "metadata": {},
   "outputs": [
    {
     "data": {
      "text/plain": [
       "{-2.43591: 'Left school at 16',\n",
       " -1.7379: 'Left school at 17',\n",
       " -1.43719: 'Left school at 18',\n",
       " -1.22751: 'Left school at 18 years',\n",
       " -0.6111300000000001: 'Some college or university, no certificate or degree',\n",
       " -0.059210000000000006: 'Professional certificate/diploma',\n",
       " 0.45468000000000003: 'University degree',\n",
       " 1.16365: 'Masters degree',\n",
       " 1.98437: 'Doctorate degree'}"
      ]
     },
     "execution_count": 24,
     "metadata": {},
     "output_type": "execute_result"
    }
   ],
   "source": [
    "EducationMeaning = {\n",
    "    -2.43591: \"Left school at 16\",\n",
    "    -1.73790: \"Left school at 17\",\n",
    "    -1.43719: \"Left school at 18\",\n",
    "    -1.22751: \"Left school at 18 years\",\n",
    "    -0.6111300000000001 : \"Some college or university, no certificate or degree\",\n",
    "    -0.059210000000000006: \"Professional certificate/diploma\",\n",
    "    0.45468000000000003 : \"University degree\", \n",
    "    1.16365 : \"Masters degree\",\n",
    "    1.98437 : \"Doctorate degree\"\n",
    "}\n",
    "EducationMeaning"
   ]
  },
  {
   "cell_type": "code",
   "execution_count": 25,
   "metadata": {},
   "outputs": [],
   "source": [
    "drugs[\"Education\"] = drugs.Education.map(EducationMeaning)\n",
    "drugs[\"Education\"] = drugs[\"Education\"].astype('category');"
   ]
  },
  {
   "cell_type": "code",
   "execution_count": 26,
   "metadata": {},
   "outputs": [
    {
     "data": {
      "text/plain": [
       "{'CL0': 'Never Used',\n",
       " 'CL1': 'Used over a Decade Ago',\n",
       " 'CL2': 'Used in Last Decade',\n",
       " 'CL3': 'Used in Last Year',\n",
       " 'CL4': 'Used in Last Month',\n",
       " 'CL5': 'Used in Last Week',\n",
       " 'CL6': 'Used in Last Day'}"
      ]
     },
     "execution_count": 26,
     "metadata": {},
     "output_type": "execute_result"
    }
   ],
   "source": [
    "ClassValue = {\n",
    "    \"CL0\" : \"Never Used\",\n",
    "    \"CL1\" : \"Used over a Decade Ago\",\n",
    "    \"CL2\" : \"Used in Last Decade\",\n",
    "    \"CL3\" : \"Used in Last Year\",\n",
    "    \"CL4\" : \"Used in Last Month\",\n",
    "    \"CL5\" : \"Used in Last Week\",\n",
    "    \"CL6\" : \"Used in Last Day\",\n",
    "    \n",
    "}\n",
    "ClassValue"
   ]
  },
  {
   "cell_type": "code",
   "execution_count": 27,
   "metadata": {},
   "outputs": [],
   "source": [
    "drugs[\"Alcohol\"] = drugs.Alcohol.map(ClassValue);\n",
    "drugs[\"Alcohol\"] = drugs[\"Alcohol\"].astype('category');\n",
    "drugs[\"Amphet\"] = drugs.Amphet.map(ClassValue);\n",
    "drugs[\"Amphet\"] = drugs[\"Amphet\"].astype('category');\n",
    "drugs[\"Amyl\"] = drugs.Amyl.map(ClassValue);\n",
    "drugs[\"Amyl\"] = drugs[\"Amyl\"].astype('category');\n",
    "drugs[\"Benzos\"] = drugs.Benzos.map(ClassValue);\n",
    "drugs[\"Benzos\"] = drugs[\"Benzos\"].astype('category');\n",
    "drugs[\"Caff\"] = drugs.Caff.map(ClassValue);\n",
    "drugs[\"Caff\"] = drugs[\"Caff\"].astype('category');\n",
    "drugs[\"Cannabis\"] = drugs.Cannabis.map(ClassValue);\n",
    "drugs[\"Cannabis\"] = drugs[\"Cannabis\"].astype('category');\n",
    "drugs[\"Choc\"] = drugs.Choc.map(ClassValue);\n",
    "drugs[\"Choc\"] = drugs[\"Choc\"].astype('category');\n",
    "drugs[\"Coke\"] = drugs.Coke.map(ClassValue);\n",
    "drugs[\"Coke\"] = drugs[\"Coke\"].astype('category');\n",
    "drugs[\"Crack\"] = drugs.Crack.map(ClassValue);\n",
    "drugs[\"Crack\"] = drugs[\"Crack\"].astype('category');\n",
    "drugs[\"Ecstasy\"] = drugs.Ecstasy.map(ClassValue);\n",
    "drugs[\"Ecstasy\"] = drugs[\"Ecstasy\"].astype('category');\n",
    "drugs[\"Heroin\"] = drugs.Heroin.map(ClassValue);\n",
    "drugs[\"Heroin\"] = drugs[\"Heroin\"].astype('category');\n",
    "drugs[\"Ketamine\"] = drugs.Ketamine.map(ClassValue);\n",
    "drugs[\"Ketamine\"] = drugs[\"Ketamine\"].astype('category');\n",
    "drugs[\"Legalh\"] = drugs.Legalh.map(ClassValue);\n",
    "drugs[\"Legalh\"] = drugs[\"Legalh\"].astype('category');\n",
    "drugs[\"LSD\"] = drugs.LSD.map(ClassValue);\n",
    "drugs[\"LSD\"] = drugs[\"LSD\"].astype('category');\n",
    "drugs[\"Meth\"] = drugs.Meth.map(ClassValue);\n",
    "drugs[\"Meth\"] = drugs[\"Meth\"].astype('category');\n",
    "drugs[\"Mushrooms\"] = drugs.Mushrooms.map(ClassValue);\n",
    "drugs[\"Mushrooms\"] = drugs[\"Mushrooms\"].astype('category');\n",
    "drugs[\"Nicotine\"] = drugs.Nicotine.map(ClassValue);\n",
    "drugs[\"Nicotine\"] = drugs[\"Nicotine\"].astype('category');\n",
    "drugs[\"Semeron\"] = drugs.Semeron.map(ClassValue);\n",
    "drugs[\"Semeron\"] = drugs[\"Semeron\"].astype('category');\n",
    "drugs[\"VSA\"] = drugs.VSA.map(ClassValue);\n",
    "drugs[\"VSA\"] = drugs[\"VSA\"].astype('category');"
   ]
  },
  {
   "cell_type": "code",
   "execution_count": 28,
   "metadata": {},
   "outputs": [
    {
     "data": {
      "text/html": [
       "<div>\n",
       "<style scoped>\n",
       "    .dataframe tbody tr th:only-of-type {\n",
       "        vertical-align: middle;\n",
       "    }\n",
       "\n",
       "    .dataframe tbody tr th {\n",
       "        vertical-align: top;\n",
       "    }\n",
       "\n",
       "    .dataframe thead th {\n",
       "        text-align: right;\n",
       "    }\n",
       "</style>\n",
       "<table border=\"1\" class=\"dataframe\">\n",
       "  <thead>\n",
       "    <tr style=\"text-align: right;\">\n",
       "      <th></th>\n",
       "      <th>Ref</th>\n",
       "      <th>Age</th>\n",
       "      <th>Gender</th>\n",
       "      <th>Education</th>\n",
       "      <th>Country</th>\n",
       "      <th>Ethnicity</th>\n",
       "      <th>Nscore</th>\n",
       "      <th>Escore</th>\n",
       "      <th>Oscore</th>\n",
       "      <th>Ascore</th>\n",
       "      <th>...</th>\n",
       "      <th>Ecstasy</th>\n",
       "      <th>Heroin</th>\n",
       "      <th>Ketamine</th>\n",
       "      <th>Legalh</th>\n",
       "      <th>LSD</th>\n",
       "      <th>Meth</th>\n",
       "      <th>Mushrooms</th>\n",
       "      <th>Nicotine</th>\n",
       "      <th>Semeron</th>\n",
       "      <th>VSA</th>\n",
       "    </tr>\n",
       "  </thead>\n",
       "  <tbody>\n",
       "    <tr>\n",
       "      <th>0</th>\n",
       "      <td>1</td>\n",
       "      <td>35-44</td>\n",
       "      <td>Female</td>\n",
       "      <td>Professional certificate/diploma</td>\n",
       "      <td>0.96082</td>\n",
       "      <td>0.12600</td>\n",
       "      <td>0.31287</td>\n",
       "      <td>-0.57545</td>\n",
       "      <td>-0.58331</td>\n",
       "      <td>-0.91699</td>\n",
       "      <td>...</td>\n",
       "      <td>Never Used</td>\n",
       "      <td>Never Used</td>\n",
       "      <td>Never Used</td>\n",
       "      <td>Never Used</td>\n",
       "      <td>Never Used</td>\n",
       "      <td>Never Used</td>\n",
       "      <td>Never Used</td>\n",
       "      <td>Used in Last Decade</td>\n",
       "      <td>Never Used</td>\n",
       "      <td>Never Used</td>\n",
       "    </tr>\n",
       "    <tr>\n",
       "      <th>1</th>\n",
       "      <td>2</td>\n",
       "      <td>25-34</td>\n",
       "      <td>Male</td>\n",
       "      <td>Doctorate degree</td>\n",
       "      <td>0.96082</td>\n",
       "      <td>-0.31685</td>\n",
       "      <td>-0.67825</td>\n",
       "      <td>1.93886</td>\n",
       "      <td>1.43533</td>\n",
       "      <td>0.76096</td>\n",
       "      <td>...</td>\n",
       "      <td>Used in Last Month</td>\n",
       "      <td>Never Used</td>\n",
       "      <td>Used in Last Decade</td>\n",
       "      <td>Never Used</td>\n",
       "      <td>Used in Last Decade</td>\n",
       "      <td>Used in Last Year</td>\n",
       "      <td>Never Used</td>\n",
       "      <td>Used in Last Month</td>\n",
       "      <td>Never Used</td>\n",
       "      <td>Never Used</td>\n",
       "    </tr>\n",
       "    <tr>\n",
       "      <th>2</th>\n",
       "      <td>3</td>\n",
       "      <td>35-44</td>\n",
       "      <td>Male</td>\n",
       "      <td>Professional certificate/diploma</td>\n",
       "      <td>0.96082</td>\n",
       "      <td>-0.31685</td>\n",
       "      <td>-0.46725</td>\n",
       "      <td>0.80523</td>\n",
       "      <td>-0.84732</td>\n",
       "      <td>-1.62090</td>\n",
       "      <td>...</td>\n",
       "      <td>Never Used</td>\n",
       "      <td>Never Used</td>\n",
       "      <td>Never Used</td>\n",
       "      <td>Never Used</td>\n",
       "      <td>Never Used</td>\n",
       "      <td>Never Used</td>\n",
       "      <td>Used over a Decade Ago</td>\n",
       "      <td>Never Used</td>\n",
       "      <td>Never Used</td>\n",
       "      <td>Never Used</td>\n",
       "    </tr>\n",
       "    <tr>\n",
       "      <th>3</th>\n",
       "      <td>4</td>\n",
       "      <td>18-24</td>\n",
       "      <td>Female</td>\n",
       "      <td>Masters degree</td>\n",
       "      <td>0.96082</td>\n",
       "      <td>-0.31685</td>\n",
       "      <td>-0.14882</td>\n",
       "      <td>-0.80615</td>\n",
       "      <td>-0.01928</td>\n",
       "      <td>0.59042</td>\n",
       "      <td>...</td>\n",
       "      <td>Never Used</td>\n",
       "      <td>Never Used</td>\n",
       "      <td>Used in Last Decade</td>\n",
       "      <td>Never Used</td>\n",
       "      <td>Never Used</td>\n",
       "      <td>Never Used</td>\n",
       "      <td>Never Used</td>\n",
       "      <td>Used in Last Decade</td>\n",
       "      <td>Never Used</td>\n",
       "      <td>Never Used</td>\n",
       "    </tr>\n",
       "    <tr>\n",
       "      <th>4</th>\n",
       "      <td>5</td>\n",
       "      <td>35-44</td>\n",
       "      <td>Female</td>\n",
       "      <td>Doctorate degree</td>\n",
       "      <td>0.96082</td>\n",
       "      <td>-0.31685</td>\n",
       "      <td>0.73545</td>\n",
       "      <td>-1.63340</td>\n",
       "      <td>-0.45174</td>\n",
       "      <td>-0.30172</td>\n",
       "      <td>...</td>\n",
       "      <td>Used over a Decade Ago</td>\n",
       "      <td>Never Used</td>\n",
       "      <td>Never Used</td>\n",
       "      <td>Used over a Decade Ago</td>\n",
       "      <td>Never Used</td>\n",
       "      <td>Never Used</td>\n",
       "      <td>Used in Last Decade</td>\n",
       "      <td>Used in Last Decade</td>\n",
       "      <td>Never Used</td>\n",
       "      <td>Never Used</td>\n",
       "    </tr>\n",
       "  </tbody>\n",
       "</table>\n",
       "<p>5 rows × 32 columns</p>\n",
       "</div>"
      ],
      "text/plain": [
       "   Ref    Age  Gender                         Education  Country  Ethnicity  \\\n",
       "0    1  35-44  Female  Professional certificate/diploma  0.96082    0.12600   \n",
       "1    2  25-34    Male                  Doctorate degree  0.96082   -0.31685   \n",
       "2    3  35-44    Male  Professional certificate/diploma  0.96082   -0.31685   \n",
       "3    4  18-24  Female                    Masters degree  0.96082   -0.31685   \n",
       "4    5  35-44  Female                  Doctorate degree  0.96082   -0.31685   \n",
       "\n",
       "    Nscore   Escore   Oscore   Ascore     ...                     Ecstasy  \\\n",
       "0  0.31287 -0.57545 -0.58331 -0.91699     ...                  Never Used   \n",
       "1 -0.67825  1.93886  1.43533  0.76096     ...          Used in Last Month   \n",
       "2 -0.46725  0.80523 -0.84732 -1.62090     ...                  Never Used   \n",
       "3 -0.14882 -0.80615 -0.01928  0.59042     ...                  Never Used   \n",
       "4  0.73545 -1.63340 -0.45174 -0.30172     ...      Used over a Decade Ago   \n",
       "\n",
       "       Heroin             Ketamine                  Legalh  \\\n",
       "0  Never Used           Never Used              Never Used   \n",
       "1  Never Used  Used in Last Decade              Never Used   \n",
       "2  Never Used           Never Used              Never Used   \n",
       "3  Never Used  Used in Last Decade              Never Used   \n",
       "4  Never Used           Never Used  Used over a Decade Ago   \n",
       "\n",
       "                   LSD               Meth               Mushrooms  \\\n",
       "0           Never Used         Never Used              Never Used   \n",
       "1  Used in Last Decade  Used in Last Year              Never Used   \n",
       "2           Never Used         Never Used  Used over a Decade Ago   \n",
       "3           Never Used         Never Used              Never Used   \n",
       "4           Never Used         Never Used     Used in Last Decade   \n",
       "\n",
       "              Nicotine     Semeron         VSA  \n",
       "0  Used in Last Decade  Never Used  Never Used  \n",
       "1   Used in Last Month  Never Used  Never Used  \n",
       "2           Never Used  Never Used  Never Used  \n",
       "3  Used in Last Decade  Never Used  Never Used  \n",
       "4  Used in Last Decade  Never Used  Never Used  \n",
       "\n",
       "[5 rows x 32 columns]"
      ]
     },
     "execution_count": 28,
     "metadata": {},
     "output_type": "execute_result"
    }
   ],
   "source": [
    "drugs.head()"
   ]
  },
  {
   "cell_type": "code",
   "execution_count": 29,
   "metadata": {},
   "outputs": [
    {
     "data": {
      "text/plain": [
       "Mushrooms               Gender\n",
       "Never Used              Female    608\n",
       "                        Male      374\n",
       "Used in Last Day        Female      2\n",
       "                        Male        2\n",
       "Used in Last Decade     Female    111\n",
       "                        Male      149\n",
       "Used in Last Month      Female     27\n",
       "                        Male       88\n",
       "Used in Last Week       Female     12\n",
       "                        Male       28\n",
       "Used in Last Year       Female     79\n",
       "                        Male      196\n",
       "Used over a Decade Ago  Female    103\n",
       "                        Male      106\n",
       "Name: Ref, dtype: int64"
      ]
     },
     "execution_count": 29,
     "metadata": {},
     "output_type": "execute_result"
    }
   ],
   "source": [
    "res = drugs.groupby([\"Mushrooms\", \"Gender\"])[\"Ref\"].count()\n",
    "res"
   ]
  },
  {
   "cell_type": "code",
   "execution_count": 30,
   "metadata": {},
   "outputs": [
    {
     "data": {
      "text/html": [
       "<div>\n",
       "<style scoped>\n",
       "    .dataframe tbody tr th:only-of-type {\n",
       "        vertical-align: middle;\n",
       "    }\n",
       "\n",
       "    .dataframe tbody tr th {\n",
       "        vertical-align: top;\n",
       "    }\n",
       "\n",
       "    .dataframe thead tr th {\n",
       "        text-align: left;\n",
       "    }\n",
       "\n",
       "    .dataframe thead tr:last-of-type th {\n",
       "        text-align: right;\n",
       "    }\n",
       "</style>\n",
       "<table border=\"1\" class=\"dataframe\">\n",
       "  <thead>\n",
       "    <tr>\n",
       "      <th></th>\n",
       "      <th colspan=\"7\" halign=\"left\">Ref</th>\n",
       "    </tr>\n",
       "    <tr>\n",
       "      <th>Mushrooms</th>\n",
       "      <th>Never Used</th>\n",
       "      <th>Used in Last Day</th>\n",
       "      <th>Used in Last Decade</th>\n",
       "      <th>Used in Last Month</th>\n",
       "      <th>Used in Last Week</th>\n",
       "      <th>Used in Last Year</th>\n",
       "      <th>Used over a Decade Ago</th>\n",
       "    </tr>\n",
       "    <tr>\n",
       "      <th>Gender</th>\n",
       "      <th></th>\n",
       "      <th></th>\n",
       "      <th></th>\n",
       "      <th></th>\n",
       "      <th></th>\n",
       "      <th></th>\n",
       "      <th></th>\n",
       "    </tr>\n",
       "  </thead>\n",
       "  <tbody>\n",
       "    <tr>\n",
       "      <th>Female</th>\n",
       "      <td>608</td>\n",
       "      <td>2</td>\n",
       "      <td>111</td>\n",
       "      <td>27</td>\n",
       "      <td>12</td>\n",
       "      <td>79</td>\n",
       "      <td>103</td>\n",
       "    </tr>\n",
       "    <tr>\n",
       "      <th>Male</th>\n",
       "      <td>374</td>\n",
       "      <td>2</td>\n",
       "      <td>149</td>\n",
       "      <td>88</td>\n",
       "      <td>28</td>\n",
       "      <td>196</td>\n",
       "      <td>106</td>\n",
       "    </tr>\n",
       "  </tbody>\n",
       "</table>\n",
       "</div>"
      ],
      "text/plain": [
       "                 Ref                                                          \\\n",
       "Mushrooms Never Used Used in Last Day Used in Last Decade Used in Last Month   \n",
       "Gender                                                                         \n",
       "Female           608                2                 111                 27   \n",
       "Male             374                2                 149                 88   \n",
       "\n",
       "                                                                      \n",
       "Mushrooms Used in Last Week Used in Last Year Used over a Decade Ago  \n",
       "Gender                                                                \n",
       "Female                   12                79                    103  \n",
       "Male                     28               196                    106  "
      ]
     },
     "execution_count": 30,
     "metadata": {},
     "output_type": "execute_result"
    }
   ],
   "source": [
    "tab = pd.pivot_table(drugs,\n",
    "                     index=[\"Gender\"],\n",
    "                     values=[\"Ref\"],\n",
    "                     columns=[\"Mushrooms\"],\n",
    "                     aggfunc=\"count\")\n",
    "tab"
   ]
  },
  {
   "cell_type": "code",
   "execution_count": 31,
   "metadata": {},
   "outputs": [
    {
     "data": {
      "text/plain": [
       "<matplotlib.axes._subplots.AxesSubplot at 0x1ec888dc240>"
      ]
     },
     "execution_count": 31,
     "metadata": {},
     "output_type": "execute_result"
    },
    {
     "data": {
      "image/png": "[encoded data removed]",
      "text/plain": [
       "<Figure size 432x288 with 2 Axes>"
      ]
     },
     "metadata": {
      "needs_background": "light"
     },
     "output_type": "display_data"
    }
   ],
   "source": [
    "sns.heatmap(tab)"
   ]
  },
  {
   "cell_type": "code",
   "execution_count": 32,
   "metadata": {},
   "outputs": [
    {
     "data": {
      "text/plain": [
       "array([<matplotlib.axes._subplots.AxesSubplot object at 0x000001EC888C5B38>,\n",
       "       <matplotlib.axes._subplots.AxesSubplot object at 0x000001EC88981978>,\n",
       "       <matplotlib.axes._subplots.AxesSubplot object at 0x000001EC889ACEB8>,\n",
       "       <matplotlib.axes._subplots.AxesSubplot object at 0x000001EC889DE470>,\n",
       "       <matplotlib.axes._subplots.AxesSubplot object at 0x000001EC88A049E8>,\n",
       "       <matplotlib.axes._subplots.AxesSubplot object at 0x000001EC88A04A20>,\n",
       "       <matplotlib.axes._subplots.AxesSubplot object at 0x000001EC88A5F518>],\n",
       "      dtype=object)"
      ]
     },
     "execution_count": 32,
     "metadata": {},
     "output_type": "execute_result"
    },
    {
     "data": {
      "image/png": "[encoded data removed]",
      "text/plain": [
       "<Figure size 432x288 with 7 Axes>"
      ]
     },
     "metadata": {},
     "output_type": "display_data"
    }
   ],
   "source": [
    "tab.plot.pie(subplots=True)"
   ]
  },
  {
   "cell_type": "code",
   "execution_count": 33,
   "metadata": {},
   "outputs": [
    {
     "data": {
      "text/html": [
       "<div>\n",
       "<style scoped>\n",
       "    .dataframe tbody tr th:only-of-type {\n",
       "        vertical-align: middle;\n",
       "    }\n",
       "\n",
       "    .dataframe tbody tr th {\n",
       "        vertical-align: top;\n",
       "    }\n",
       "\n",
       "    .dataframe thead tr th {\n",
       "        text-align: left;\n",
       "    }\n",
       "\n",
       "    .dataframe thead tr:last-of-type th {\n",
       "        text-align: right;\n",
       "    }\n",
       "</style>\n",
       "<table border=\"1\" class=\"dataframe\">\n",
       "  <thead>\n",
       "    <tr>\n",
       "      <th></th>\n",
       "      <th colspan=\"7\" halign=\"left\">Ref</th>\n",
       "    </tr>\n",
       "    <tr>\n",
       "      <th>Mushrooms</th>\n",
       "      <th>Never Used</th>\n",
       "      <th>Used in Last Day</th>\n",
       "      <th>Used in Last Decade</th>\n",
       "      <th>Used in Last Month</th>\n",
       "      <th>Used in Last Week</th>\n",
       "      <th>Used in Last Year</th>\n",
       "      <th>Used over a Decade Ago</th>\n",
       "    </tr>\n",
       "    <tr>\n",
       "      <th>Gender</th>\n",
       "      <th></th>\n",
       "      <th></th>\n",
       "      <th></th>\n",
       "      <th></th>\n",
       "      <th></th>\n",
       "      <th></th>\n",
       "      <th></th>\n",
       "    </tr>\n",
       "  </thead>\n",
       "  <tbody>\n",
       "    <tr>\n",
       "      <th>Female</th>\n",
       "      <td>608</td>\n",
       "      <td>2</td>\n",
       "      <td>111</td>\n",
       "      <td>27</td>\n",
       "      <td>12</td>\n",
       "      <td>79</td>\n",
       "      <td>103</td>\n",
       "    </tr>\n",
       "    <tr>\n",
       "      <th>Male</th>\n",
       "      <td>374</td>\n",
       "      <td>2</td>\n",
       "      <td>149</td>\n",
       "      <td>88</td>\n",
       "      <td>28</td>\n",
       "      <td>196</td>\n",
       "      <td>106</td>\n",
       "    </tr>\n",
       "  </tbody>\n",
       "</table>\n",
       "</div>"
      ],
      "text/plain": [
       "                 Ref                                                          \\\n",
       "Mushrooms Never Used Used in Last Day Used in Last Decade Used in Last Month   \n",
       "Gender                                                                         \n",
       "Female           608                2                 111                 27   \n",
       "Male             374                2                 149                 88   \n",
       "\n",
       "                                                                      \n",
       "Mushrooms Used in Last Week Used in Last Year Used over a Decade Ago  \n",
       "Gender                                                                \n",
       "Female                   12                79                    103  \n",
       "Male                     28               196                    106  "
      ]
     },
     "execution_count": 33,
     "metadata": {},
     "output_type": "execute_result"
    }
   ],
   "source": [
    "tab"
   ]
  },
  {
   "cell_type": "code",
   "execution_count": 34,
   "metadata": {},
   "outputs": [
    {
     "data": {
      "image/png": "[encoded data removed]",
      "text/plain": [
       "<Figure size 432x288 with 1 Axes>"
      ]
     },
     "metadata": {
      "needs_background": "light"
     },
     "output_type": "display_data"
    }
   ],
   "source": [
    "title = \"\"\n",
    "to_plot = drugs.groupby([\"Semeron\", \"Gender\"])[\"Ref\"].count()\n",
    "#barh : \n",
    "ax = to_plot.plot.barh(title=title)\n",
    "despine_ax(ax)"
   ]
  },
  {
   "cell_type": "code",
   "execution_count": 35,
   "metadata": {},
   "outputs": [
    {
     "data": {
      "image/png": "[encoded data removed]",
      "text/plain": [
       "<Figure size 1440x360 with 2 Axes>"
      ]
     },
     "metadata": {
      "needs_background": "light"
     },
     "output_type": "display_data"
    }
   ],
   "source": [
    "plt.figure(1, figsize=(20,5))\n",
    "\n",
    "ax    = plt.subplot(121)\n",
    "title = \"\"\n",
    "to_plot.sort_values()[5:].plot.bar(title=title, rot=45, ax=ax)\n",
    "despine_ax(ax)\n",
    "\n",
    "ax    = plt.subplot(122)\n",
    "title = \"\"\n",
    "to_plot.sort_values()[:5].plot.bar(title=title, rot=90, ax=ax)\n",
    "despine_ax(ax)"
   ]
  },
  {
   "cell_type": "code",
   "execution_count": 36,
   "metadata": {},
   "outputs": [
    {
     "data": {
      "text/plain": [
       "Meth                    Gender\n",
       "Never Used              Female    789\n",
       "                        Male      640\n",
       "Used in Last Day        Female     20\n",
       "                        Male       53\n",
       "Used in Last Decade     Female     39\n",
       "                        Male       58\n",
       "Used in Last Month      Female     19\n",
       "                        Male       31\n",
       "Used in Last Week       Female     17\n",
       "                        Male       31\n",
       "Used in Last Year       Female     40\n",
       "                        Male      109\n",
       "Used over a Decade Ago  Female     18\n",
       "                        Male       21\n",
       "Name: Ref, dtype: int64"
      ]
     },
     "execution_count": 36,
     "metadata": {},
     "output_type": "execute_result"
    }
   ],
   "source": [
    "drugs.groupby([\"Meth\", \"Gender\"])[\"Ref\"].count()"
   ]
  },
  {
   "cell_type": "code",
   "execution_count": 37,
   "metadata": {},
   "outputs": [
    {
     "data": {
      "text/plain": [
       "<matplotlib.axes._subplots.AxesSubplot at 0x1ec88b82940>"
      ]
     },
     "execution_count": 37,
     "metadata": {},
     "output_type": "execute_result"
    },
    {
     "data": {
      "image/png": "[encoded data removed]",
      "text/plain": [
       "<Figure size 360x432 with 1 Axes>"
      ]
     },
     "metadata": {
      "needs_background": "light"
     },
     "output_type": "display_data"
    }
   ],
   "source": [
    "drugs.boxplot('Escore','Age',rot = 30,figsize=(5,6))"
   ]
  },
  {
   "cell_type": "code",
   "execution_count": 38,
   "metadata": {},
   "outputs": [
    {
     "data": {
      "text/plain": [
       "Never Used                1429\n",
       "Used in Last Year          149\n",
       "Used in Last Decade         97\n",
       "Used in Last Day            73\n",
       "Used in Last Month          50\n",
       "Used in Last Week           48\n",
       "Used over a Decade Ago      39\n",
       "Name: Meth, dtype: int64"
      ]
     },
     "execution_count": 38,
     "metadata": {},
     "output_type": "execute_result"
    }
   ],
   "source": [
    "methCount = drugs['Meth'].value_counts()\n",
    "methCount"
   ]
  },
  {
   "cell_type": "code",
   "execution_count": 39,
   "metadata": {},
   "outputs": [
    {
     "data": {
      "image/png": "[encoded data removed]",
      "text/plain": [
       "<Figure size 432x288 with 1 Axes>"
      ]
     },
     "metadata": {},
     "output_type": "display_data"
    }
   ],
   "source": [
    "sns.set(style=\"darkgrid\")\n",
    "mathCount = methCount.sort_index()\n",
    "sns.barplot(methCount.index, methCount.values, alpha=0.9)\n",
    "plt.title('Use amount for Meth')\n",
    "plt.ylabel('Number of Occurrences', fontsize=12)\n",
    "plt.xlabel('Use class', fontsize=12)\n",
    "plt.show()"
   ]
  },
  {
   "cell_type": "code",
   "execution_count": 40,
   "metadata": {},
   "outputs": [],
   "source": [
    "onlyCat_drugs = drugs.select_dtypes(include=['category']).copy()"
   ]
  },
  {
   "cell_type": "code",
   "execution_count": 41,
   "metadata": {},
   "outputs": [
    {
     "data": {
      "text/html": [
       "<div>\n",
       "<style scoped>\n",
       "    .dataframe tbody tr th:only-of-type {\n",
       "        vertical-align: middle;\n",
       "    }\n",
       "\n",
       "    .dataframe tbody tr th {\n",
       "        vertical-align: top;\n",
       "    }\n",
       "\n",
       "    .dataframe thead th {\n",
       "        text-align: right;\n",
       "    }\n",
       "</style>\n",
       "<table border=\"1\" class=\"dataframe\">\n",
       "  <thead>\n",
       "    <tr style=\"text-align: right;\">\n",
       "      <th></th>\n",
       "      <th>Age</th>\n",
       "      <th>Gender</th>\n",
       "      <th>Education</th>\n",
       "      <th>Alcohol</th>\n",
       "      <th>Amphet</th>\n",
       "      <th>Amyl</th>\n",
       "      <th>Benzos</th>\n",
       "      <th>Caff</th>\n",
       "      <th>Cannabis</th>\n",
       "      <th>Choc</th>\n",
       "      <th>...</th>\n",
       "      <th>Ecstasy</th>\n",
       "      <th>Heroin</th>\n",
       "      <th>Ketamine</th>\n",
       "      <th>Legalh</th>\n",
       "      <th>LSD</th>\n",
       "      <th>Meth</th>\n",
       "      <th>Mushrooms</th>\n",
       "      <th>Nicotine</th>\n",
       "      <th>Semeron</th>\n",
       "      <th>VSA</th>\n",
       "    </tr>\n",
       "  </thead>\n",
       "  <tbody>\n",
       "    <tr>\n",
       "      <th>0</th>\n",
       "      <td>35-44</td>\n",
       "      <td>Female</td>\n",
       "      <td>Professional certificate/diploma</td>\n",
       "      <td>Used in Last Week</td>\n",
       "      <td>Used in Last Decade</td>\n",
       "      <td>Never Used</td>\n",
       "      <td>Used in Last Decade</td>\n",
       "      <td>Used in Last Day</td>\n",
       "      <td>Never Used</td>\n",
       "      <td>Used in Last Week</td>\n",
       "      <td>...</td>\n",
       "      <td>Never Used</td>\n",
       "      <td>Never Used</td>\n",
       "      <td>Never Used</td>\n",
       "      <td>Never Used</td>\n",
       "      <td>Never Used</td>\n",
       "      <td>Never Used</td>\n",
       "      <td>Never Used</td>\n",
       "      <td>Used in Last Decade</td>\n",
       "      <td>Never Used</td>\n",
       "      <td>Never Used</td>\n",
       "    </tr>\n",
       "    <tr>\n",
       "      <th>1</th>\n",
       "      <td>25-34</td>\n",
       "      <td>Male</td>\n",
       "      <td>Doctorate degree</td>\n",
       "      <td>Used in Last Week</td>\n",
       "      <td>Used in Last Decade</td>\n",
       "      <td>Used in Last Decade</td>\n",
       "      <td>Never Used</td>\n",
       "      <td>Used in Last Day</td>\n",
       "      <td>Used in Last Month</td>\n",
       "      <td>Used in Last Day</td>\n",
       "      <td>...</td>\n",
       "      <td>Used in Last Month</td>\n",
       "      <td>Never Used</td>\n",
       "      <td>Used in Last Decade</td>\n",
       "      <td>Never Used</td>\n",
       "      <td>Used in Last Decade</td>\n",
       "      <td>Used in Last Year</td>\n",
       "      <td>Never Used</td>\n",
       "      <td>Used in Last Month</td>\n",
       "      <td>Never Used</td>\n",
       "      <td>Never Used</td>\n",
       "    </tr>\n",
       "    <tr>\n",
       "      <th>2</th>\n",
       "      <td>35-44</td>\n",
       "      <td>Male</td>\n",
       "      <td>Professional certificate/diploma</td>\n",
       "      <td>Used in Last Day</td>\n",
       "      <td>Never Used</td>\n",
       "      <td>Never Used</td>\n",
       "      <td>Never Used</td>\n",
       "      <td>Used in Last Day</td>\n",
       "      <td>Used in Last Year</td>\n",
       "      <td>Used in Last Month</td>\n",
       "      <td>...</td>\n",
       "      <td>Never Used</td>\n",
       "      <td>Never Used</td>\n",
       "      <td>Never Used</td>\n",
       "      <td>Never Used</td>\n",
       "      <td>Never Used</td>\n",
       "      <td>Never Used</td>\n",
       "      <td>Used over a Decade Ago</td>\n",
       "      <td>Never Used</td>\n",
       "      <td>Never Used</td>\n",
       "      <td>Never Used</td>\n",
       "    </tr>\n",
       "    <tr>\n",
       "      <th>3</th>\n",
       "      <td>18-24</td>\n",
       "      <td>Female</td>\n",
       "      <td>Masters degree</td>\n",
       "      <td>Used in Last Month</td>\n",
       "      <td>Never Used</td>\n",
       "      <td>Never Used</td>\n",
       "      <td>Used in Last Year</td>\n",
       "      <td>Used in Last Week</td>\n",
       "      <td>Used in Last Decade</td>\n",
       "      <td>Used in Last Month</td>\n",
       "      <td>...</td>\n",
       "      <td>Never Used</td>\n",
       "      <td>Never Used</td>\n",
       "      <td>Used in Last Decade</td>\n",
       "      <td>Never Used</td>\n",
       "      <td>Never Used</td>\n",
       "      <td>Never Used</td>\n",
       "      <td>Never Used</td>\n",
       "      <td>Used in Last Decade</td>\n",
       "      <td>Never Used</td>\n",
       "      <td>Never Used</td>\n",
       "    </tr>\n",
       "    <tr>\n",
       "      <th>4</th>\n",
       "      <td>35-44</td>\n",
       "      <td>Female</td>\n",
       "      <td>Doctorate degree</td>\n",
       "      <td>Used in Last Month</td>\n",
       "      <td>Used over a Decade Ago</td>\n",
       "      <td>Used over a Decade Ago</td>\n",
       "      <td>Never Used</td>\n",
       "      <td>Used in Last Day</td>\n",
       "      <td>Used in Last Year</td>\n",
       "      <td>Used in Last Day</td>\n",
       "      <td>...</td>\n",
       "      <td>Used over a Decade Ago</td>\n",
       "      <td>Never Used</td>\n",
       "      <td>Never Used</td>\n",
       "      <td>Used over a Decade Ago</td>\n",
       "      <td>Never Used</td>\n",
       "      <td>Never Used</td>\n",
       "      <td>Used in Last Decade</td>\n",
       "      <td>Used in Last Decade</td>\n",
       "      <td>Never Used</td>\n",
       "      <td>Never Used</td>\n",
       "    </tr>\n",
       "  </tbody>\n",
       "</table>\n",
       "<p>5 rows × 22 columns</p>\n",
       "</div>"
      ],
      "text/plain": [
       "     Age  Gender                         Education             Alcohol  \\\n",
       "0  35-44  Female  Professional certificate/diploma   Used in Last Week   \n",
       "1  25-34    Male                  Doctorate degree   Used in Last Week   \n",
       "2  35-44    Male  Professional certificate/diploma    Used in Last Day   \n",
       "3  18-24  Female                    Masters degree  Used in Last Month   \n",
       "4  35-44  Female                  Doctorate degree  Used in Last Month   \n",
       "\n",
       "                   Amphet                    Amyl               Benzos  \\\n",
       "0     Used in Last Decade              Never Used  Used in Last Decade   \n",
       "1     Used in Last Decade     Used in Last Decade           Never Used   \n",
       "2              Never Used              Never Used           Never Used   \n",
       "3              Never Used              Never Used    Used in Last Year   \n",
       "4  Used over a Decade Ago  Used over a Decade Ago           Never Used   \n",
       "\n",
       "                Caff             Cannabis                Choc     ...      \\\n",
       "0   Used in Last Day           Never Used   Used in Last Week     ...       \n",
       "1   Used in Last Day   Used in Last Month    Used in Last Day     ...       \n",
       "2   Used in Last Day    Used in Last Year  Used in Last Month     ...       \n",
       "3  Used in Last Week  Used in Last Decade  Used in Last Month     ...       \n",
       "4   Used in Last Day    Used in Last Year    Used in Last Day     ...       \n",
       "\n",
       "                  Ecstasy      Heroin             Ketamine  \\\n",
       "0              Never Used  Never Used           Never Used   \n",
       "1      Used in Last Month  Never Used  Used in Last Decade   \n",
       "2              Never Used  Never Used           Never Used   \n",
       "3              Never Used  Never Used  Used in Last Decade   \n",
       "4  Used over a Decade Ago  Never Used           Never Used   \n",
       "\n",
       "                   Legalh                  LSD               Meth  \\\n",
       "0              Never Used           Never Used         Never Used   \n",
       "1              Never Used  Used in Last Decade  Used in Last Year   \n",
       "2              Never Used           Never Used         Never Used   \n",
       "3              Never Used           Never Used         Never Used   \n",
       "4  Used over a Decade Ago           Never Used         Never Used   \n",
       "\n",
       "                Mushrooms             Nicotine     Semeron         VSA  \n",
       "0              Never Used  Used in Last Decade  Never Used  Never Used  \n",
       "1              Never Used   Used in Last Month  Never Used  Never Used  \n",
       "2  Used over a Decade Ago           Never Used  Never Used  Never Used  \n",
       "3              Never Used  Used in Last Decade  Never Used  Never Used  \n",
       "4     Used in Last Decade  Used in Last Decade  Never Used  Never Used  \n",
       "\n",
       "[5 rows x 22 columns]"
      ]
     },
     "execution_count": 41,
     "metadata": {},
     "output_type": "execute_result"
    }
   ],
   "source": [
    "onlyCat_drugs.head()"
   ]
  },
  {
   "cell_type": "code",
   "execution_count": 42,
   "metadata": {},
   "outputs": [
    {
     "data": {
      "image/png": "[encoded data removed]",
      "text/plain": [
       "<Figure size 432x288 with 1 Axes>"
      ]
     },
     "metadata": {},
     "output_type": "display_data"
    }
   ],
   "source": [
    "labels = onlyCat_drugs['Nicotine'].astype('category').cat.categories.tolist()\n",
    "counts = onlyCat_drugs['Nicotine'].value_counts()\n",
    "sizes = [counts[var_cat] for var_cat in labels]\n",
    "fig1, ax1 = plt.subplots()\n",
    "ax1.pie(sizes, labels=labels, autopct='%1.1f%%', shadow=False) #autopct is show the % on plot\n",
    "ax1.axis('equal')\n",
    "plt.title('Use amount for Nicotine')\n",
    "plt.show()"
   ]
  },
  {
   "cell_type": "code",
   "execution_count": 43,
   "metadata": {},
   "outputs": [
    {
     "data": {
      "text/plain": [
       "SS\n",
       "-2.07848    1\n",
       "-1.54858    7\n",
       "-1.18084    5\n",
       "-0.84637    3\n",
       "-0.52593    5\n",
       "-0.21575    4\n",
       " 0.07987    4\n",
       " 0.40148    1\n",
       " 0.76540    2\n",
       " 1.22470    1\n",
       " 1.92173    1\n",
       "Name: Ref, dtype: int64"
      ]
     },
     "execution_count": 43,
     "metadata": {},
     "output_type": "execute_result"
    }
   ],
   "source": [
    "AlcoholUseSS = drugs.groupby([\"Alcohol\", \"SS\"])[\"Ref\"].count()\n",
    "AlcoholUseSS[\"Never Used\"]"
   ]
  },
  {
   "cell_type": "markdown",
   "metadata": {},
   "source": [
    "### Chance of using Ketamine"
   ]
  },
  {
   "cell_type": "code",
   "execution_count": 44,
   "metadata": {},
   "outputs": [],
   "source": [
    "from sklearn import datasets, linear_model\n",
    "from sklearn.model_selection import train_test_split"
   ]
  },
  {
   "cell_type": "code",
   "execution_count": 45,
   "metadata": {},
   "outputs": [],
   "source": [
    "def IsUser(usage):\n",
    "    if usage == \"Never Used\": \n",
    "        return 0 \n",
    "    elif usage == \"Used over a Decade Ago\": \n",
    "        return 1\n",
    "    elif usage == \"Used in Last Decade\":\n",
    "        return 2\n",
    "    elif usage == \"Used in Last Year\":\n",
    "        return 3\n",
    "    elif usage == \"Used in Last Month\":\n",
    "        return 4\n",
    "    elif usage == \"Used in Last Week\":\n",
    "        return 5\n",
    "    elif usage == \"Used in Last Day\":\n",
    "        return 6"
   ]
  },
  {
   "cell_type": "markdown",
   "metadata": {},
   "source": [
    "## 2) Prepare the dataset for the learning"
   ]
  },
  {
   "cell_type": "code",
   "execution_count": 46,
   "metadata": {},
   "outputs": [
    {
     "data": {
      "text/html": [
       "<div>\n",
       "<style scoped>\n",
       "    .dataframe tbody tr th:only-of-type {\n",
       "        vertical-align: middle;\n",
       "    }\n",
       "\n",
       "    .dataframe tbody tr th {\n",
       "        vertical-align: top;\n",
       "    }\n",
       "\n",
       "    .dataframe thead th {\n",
       "        text-align: right;\n",
       "    }\n",
       "</style>\n",
       "<table border=\"1\" class=\"dataframe\">\n",
       "  <thead>\n",
       "    <tr style=\"text-align: right;\">\n",
       "      <th></th>\n",
       "      <th>SS</th>\n",
       "      <th>User</th>\n",
       "    </tr>\n",
       "  </thead>\n",
       "  <tbody>\n",
       "    <tr>\n",
       "      <th>101</th>\n",
       "      <td>-0.84637</td>\n",
       "      <td>0</td>\n",
       "    </tr>\n",
       "    <tr>\n",
       "      <th>1413</th>\n",
       "      <td>-0.52593</td>\n",
       "      <td>0</td>\n",
       "    </tr>\n",
       "    <tr>\n",
       "      <th>579</th>\n",
       "      <td>-0.21575</td>\n",
       "      <td>0</td>\n",
       "    </tr>\n",
       "    <tr>\n",
       "      <th>1793</th>\n",
       "      <td>-0.52593</td>\n",
       "      <td>0</td>\n",
       "    </tr>\n",
       "    <tr>\n",
       "      <th>428</th>\n",
       "      <td>-0.21575</td>\n",
       "      <td>0</td>\n",
       "    </tr>\n",
       "  </tbody>\n",
       "</table>\n",
       "</div>"
      ],
      "text/plain": [
       "           SS User\n",
       "101  -0.84637    0\n",
       "1413 -0.52593    0\n",
       "579  -0.21575    0\n",
       "1793 -0.52593    0\n",
       "428  -0.21575    0"
      ]
     },
     "execution_count": 46,
     "metadata": {},
     "output_type": "execute_result"
    }
   ],
   "source": [
    "ketamineUseSerie = drugs.copy()\n",
    "ketamineUseSerie = ketamineUseSerie.drop(columns=['Alcohol', 'Amphet', 'Amyl', 'Benzos', 'Caff', 'Cannabis', 'Choc', 'Coke', 'Crack', \n",
    "                       'Ecstasy',  'Heroin', 'Legalh', 'LSD', 'Meth', 'Mushrooms', 'Nicotine', 'Semeron', 'VSA'])\n",
    "ketamineUseSerie[\"User\"] = ketamineUseSerie.Ketamine.apply(IsUser)\n",
    "ketamineUseSerie = ketamineUseSerie.drop(columns=['Education', 'Gender','Age','Ketamine', 'Ref', 'Country', 'Ethnicity', 'Nscore', 'Escore', 'Oscore', 'Ascore', 'Cscore','Impulsive'])\n",
    "ketamineUseSerie.sample(5)\n"
   ]
  },
  {
   "cell_type": "markdown",
   "metadata": {},
   "source": [
    "## 3) Create the training and test datasets"
   ]
  },
  {
   "cell_type": "code",
   "execution_count": 59,
   "metadata": {},
   "outputs": [],
   "source": [
    "\n",
    "y = ketamineUseSerie[\"User\"]\n",
    "ketamineUseSerie.drop(columns=[\"User\"])\n",
    "X_train, X_test, y_train, y_test = train_test_split(ketamineUseSerie, y, test_size=0.2)"
   ]
  },
  {
   "cell_type": "markdown",
   "metadata": {},
   "source": [
    "## 4) Standardise the data values"
   ]
  },
  {
   "cell_type": "code",
   "execution_count": 60,
   "metadata": {},
   "outputs": [],
   "source": [
    "from sklearn.preprocessing import StandardScaler\n",
    "scaler = StandardScaler()\n",
    "scaler.fit(X_train)                 # Il ne faut fiter que sur les data d'entrainement\n",
    "X_train = scaler.transform(X_train)\n",
    "X_test  = scaler.transform(X_test)  # apply same transformation to test data"
   ]
  },
  {
   "cell_type": "code",
   "execution_count": 61,
   "metadata": {},
   "outputs": [
    {
     "name": "stdout",
     "output_type": "stream",
     "text": [
      "(1508, 2) (1508,)\n",
      "(377, 2) (377,)\n"
     ]
    }
   ],
   "source": [
    "print (X_train.shape, y_train.shape)\n",
    "print( X_test.shape, y_test.shape)"
   ]
  },
  {
   "cell_type": "markdown",
   "metadata": {},
   "source": [
    "## 5) Choose an algorithm and test it"
   ]
  },
  {
   "cell_type": "code",
   "execution_count": 63,
   "metadata": {},
   "outputs": [
    {
     "data": {
      "text/plain": [
       "array([0.98658933, 0.99664667, 0.99408644])"
      ]
     },
     "execution_count": 63,
     "metadata": {},
     "output_type": "execute_result"
    }
   ],
   "source": [
    "from sklearn import svm\n",
    "svr = svm.SVR(kernel='linear')\n",
    "\n",
    "from sklearn import cross_validation\n",
    "cross_validation.cross_val_score(svr, ketamineUseSerie, y, n_jobs=-1)"
   ]
  },
  {
   "cell_type": "markdown",
   "metadata": {},
   "source": [
    "## 6) Optimising the hyperparameters with Grid search"
   ]
  },
  {
   "cell_type": "code",
   "execution_count": 64,
   "metadata": {},
   "outputs": [
    {
     "name": "stderr",
     "output_type": "stream",
     "text": [
      "D:\\Anaconda\\lib\\site-packages\\sklearn\\grid_search.py:42: DeprecationWarning: This module was deprecated in version 0.18 in favor of the model_selection module into which all the refactored classes and functions are moved. This module will be removed in 0.20.\n",
      "  DeprecationWarning)\n"
     ]
    },
    {
     "name": "stdout",
     "output_type": "stream",
     "text": [
      "0.9971876246669189 SVR(C=1.0, cache_size=200, coef0=0.0, degree=3, epsilon=0.1, gamma=0.01,\n",
      "  kernel='rbf', max_iter=-1, shrinking=True, tol=0.001, verbose=False)\n"
     ]
    }
   ],
   "source": [
    "from sklearn import cross_validation\n",
    "from sklearn import grid_search\n",
    "\n",
    "parameters = {  'gamma' : [0.01, 0.1, 0.5] }\n",
    "grid       = grid_search.GridSearchCV(svm.SVR(), parameters, n_jobs=-1)\n",
    "grid.fit(X_train, y_train)\n",
    "print (grid.best_score_, grid.best_estimator_)"
   ]
  },
  {
   "cell_type": "markdown",
   "metadata": {},
   "source": [
    "## 7) Refine the grid search"
   ]
  },
  {
   "cell_type": "code",
   "execution_count": 67,
   "metadata": {},
   "outputs": [
    {
     "name": "stdout",
     "output_type": "stream",
     "text": [
      "0.9940312875434345 SVR(C=1.5, cache_size=200, coef0=0.0, degree=3, epsilon=0.1, gamma=0.15,\n",
      "  kernel='rbf', max_iter=-1, shrinking=True, tol=0.001, verbose=False)\n"
     ]
    }
   ],
   "source": [
    "parameters = {  'C'      : [0.5, 1, 1.5]             ,\n",
    "                'gamma'  : [0.5, 0.1, 0.15]      }\n",
    "grid = grid_search.GridSearchCV(svm.SVR(), parameters, n_jobs=-1)\n",
    "grid.fit(X_train, y_train)\n",
    "print(grid.best_score_, grid.best_estimator_)"
   ]
  },
  {
   "cell_type": "code",
   "execution_count": 69,
   "metadata": {},
   "outputs": [
    {
     "name": "stdout",
     "output_type": "stream",
     "text": [
      "0.996953421394139 SVR(C=1.5, cache_size=200, coef0=0.0, degree=3, epsilon=0.1, gamma=0.05,\n",
      "  kernel='rbf', max_iter=-1, shrinking=True, tol=0.001, verbose=False)\n"
     ]
    }
   ],
   "source": [
    "parameters = {  'C'      : [1.5, 2, 2.5]   ,\n",
    "                'kernel' : ['rbf', 'poly', 'sigmoid'],\n",
    "                'gamma'  : [ 0.05, 0.10, 0.15] }\n",
    "grid = grid_search.GridSearchCV(svm.SVR(), parameters, n_jobs=-1)\n",
    "grid.fit(X_train, y_train)\n",
    "print(grid.best_score_, grid.best_estimator_)\n"
   ]
  },
  {
   "cell_type": "code",
   "execution_count": 70,
   "metadata": {},
   "outputs": [
    {
     "name": "stdout",
     "output_type": "stream",
     "text": [
      "0.9984572734347968 SVR(C=4, cache_size=200, coef0=0.0, degree=1, epsilon=0.1, gamma=0.01,\n",
      "  kernel='rbf', max_iter=-1, shrinking=True, tol=0.001, verbose=False)\n"
     ]
    }
   ],
   "source": [
    "parameters = {  'C'       : [2.5, 3, 4]   ,\n",
    "                'kernel'  : ['rbf', 'poly', 'sigmoid'],\n",
    "                'gamma'   : [ 0.01, 0.05, 0.07],\n",
    "                 \"degree\" : [1,3,5]}\n",
    "grid = grid_search.GridSearchCV(svm.SVR(), parameters, n_jobs=-1)\n",
    "grid.fit(X_train, y_train)\n",
    "print (grid.best_score_, grid.best_estimator_)"
   ]
  },
  {
   "cell_type": "markdown",
   "metadata": {},
   "source": [
    "## 7) Linear regression"
   ]
  },
  {
   "cell_type": "code",
   "execution_count": 71,
   "metadata": {},
   "outputs": [],
   "source": [
    "lm = linear_model.LinearRegression()\n",
    "\n",
    "model = lm.fit(X_train, y_train)\n",
    "predictions = lm.predict(X_test)"
   ]
  },
  {
   "cell_type": "code",
   "execution_count": 72,
   "metadata": {},
   "outputs": [
    {
     "data": {
      "text/plain": [
       "Text(0,0.5,'Predictions')"
      ]
     },
     "execution_count": 72,
     "metadata": {},
     "output_type": "execute_result"
    },
    {
     "data": {
      "image/png": "[encoded data removed]",
      "text/plain": [
       "<Figure size 432x288 with 1 Axes>"
      ]
     },
     "metadata": {},
     "output_type": "display_data"
    }
   ],
   "source": [
    "plt.scatter(y_test, predictions)\n",
    "plt.xlabel(\"True Values\")\n",
    "plt.ylabel(\"Predictions\")"
   ]
  },
  {
   "cell_type": "code",
   "execution_count": 73,
   "metadata": {},
   "outputs": [
    {
     "name": "stdout",
     "output_type": "stream",
     "text": [
      "Score: 1.0\n"
     ]
    }
   ],
   "source": [
    "print (\"Score:\", model.score(X_test, y_test))"
   ]
  },
  {
   "cell_type": "code",
   "execution_count": 75,
   "metadata": {},
   "outputs": [
    {
     "data": {
      "text/plain": [
       "array([ 1.11022302e-16, -2.22044605e-16,  2.22044605e-16,  0.00000000e+00,\n",
       "        1.11022302e-16,  3.33066907e-16,  2.00000000e+00,  2.00000000e+00,\n",
       "        4.00000000e+00,  4.44089210e-16, -2.22044605e-16, -4.44089210e-16,\n",
       "        3.00000000e+00, -2.22044605e-16,  3.33066907e-16,  1.11022302e-16,\n",
       "        2.22044605e-16,  2.22044605e-16, -2.22044605e-16, -2.22044605e-16,\n",
       "        4.00000000e+00,  1.00000000e+00,  0.00000000e+00,  3.33066907e-16,\n",
       "        0.00000000e+00,  0.00000000e+00, -2.22044605e-16,  4.44089210e-16,\n",
       "       -4.44089210e-16, -4.44089210e-16,  2.00000000e+00,  0.00000000e+00,\n",
       "        1.11022302e-16,  1.11022302e-16, -1.11022302e-16, -2.22044605e-16,\n",
       "       -4.44089210e-16,  3.00000000e+00,  3.33066907e-16,  1.00000000e+00,\n",
       "       -2.22044605e-16,  2.00000000e+00,  4.44089210e-16,  3.00000000e+00,\n",
       "        1.11022302e-16,  0.00000000e+00,  3.33066907e-16,  5.55111512e-16,\n",
       "        5.55111512e-16,  1.00000000e+00,  2.22044605e-16,  1.11022302e-16,\n",
       "        5.00000000e+00,  1.11022302e-16,  1.11022302e-16,  2.00000000e+00,\n",
       "       -1.11022302e-16,  3.00000000e+00,  1.11022302e-16,  4.44089210e-16,\n",
       "        3.33066907e-16,  1.11022302e-16, -1.11022302e-16,  1.11022302e-16,\n",
       "        5.00000000e+00, -4.44089210e-16, -1.11022302e-16,  2.00000000e+00,\n",
       "        4.44089210e-16,  3.33066907e-16,  2.00000000e+00,  1.11022302e-16,\n",
       "       -1.11022302e-16,  1.11022302e-16,  2.22044605e-16,  1.11022302e-16,\n",
       "        0.00000000e+00,  2.22044605e-16,  5.55111512e-16,  1.11022302e-16,\n",
       "        2.00000000e+00,  1.11022302e-16, -1.11022302e-16,  1.11022302e-16,\n",
       "        2.22044605e-16,  3.00000000e+00,  2.00000000e+00,  3.33066907e-16,\n",
       "       -2.22044605e-16,  2.00000000e+00,  0.00000000e+00, -2.22044605e-16,\n",
       "        3.33066907e-16, -4.44089210e-16,  3.33066907e-16, -1.11022302e-16,\n",
       "        3.00000000e+00,  4.44089210e-16,  2.22044605e-16,  1.00000000e+00,\n",
       "       -2.22044605e-16,  0.00000000e+00,  4.44089210e-16,  6.00000000e+00,\n",
       "       -2.22044605e-16,  5.55111512e-16,  3.33066907e-16,  1.11022302e-16,\n",
       "        0.00000000e+00, -1.11022302e-16,  0.00000000e+00,  2.00000000e+00,\n",
       "       -1.11022302e-16,  0.00000000e+00,  3.33066907e-16,  3.00000000e+00,\n",
       "        2.00000000e+00,  0.00000000e+00,  0.00000000e+00,  2.22044605e-16,\n",
       "        5.00000000e+00,  3.00000000e+00, -1.11022302e-16, -2.22044605e-16,\n",
       "        1.11022302e-16, -2.22044605e-16,  3.33066907e-16,  4.44089210e-16,\n",
       "        1.11022302e-16,  3.33066907e-16,  2.00000000e+00,  1.11022302e-16,\n",
       "        3.33066907e-16,  2.22044605e-16,  6.66133815e-16,  2.00000000e+00,\n",
       "       -1.11022302e-16,  3.00000000e+00,  4.44089210e-16,  3.00000000e+00,\n",
       "        6.66133815e-16,  0.00000000e+00,  2.22044605e-16,  4.00000000e+00,\n",
       "        2.00000000e+00,  0.00000000e+00,  2.00000000e+00,  4.00000000e+00,\n",
       "        3.33066907e-16,  0.00000000e+00,  4.44089210e-16,  2.00000000e+00,\n",
       "        2.22044605e-16, -2.22044605e-16, -4.44089210e-16, -1.11022302e-16,\n",
       "        1.11022302e-16,  0.00000000e+00,  0.00000000e+00,  1.11022302e-16,\n",
       "        3.00000000e+00,  3.33066907e-16, -2.22044605e-16,  4.44089210e-16,\n",
       "        3.33066907e-16,  3.33066907e-16, -1.11022302e-16,  1.00000000e+00,\n",
       "        2.22044605e-16, -1.11022302e-16, -2.22044605e-16,  1.11022302e-16,\n",
       "        1.11022302e-16,  1.11022302e-16,  2.00000000e+00,  1.11022302e-16,\n",
       "        4.00000000e+00,  3.00000000e+00, -2.22044605e-16,  6.66133815e-16,\n",
       "        4.44089210e-16, -1.11022302e-16,  3.00000000e+00,  2.00000000e+00,\n",
       "       -1.11022302e-16,  0.00000000e+00,  0.00000000e+00,  1.00000000e+00,\n",
       "        3.33066907e-16, -2.22044605e-16,  2.22044605e-16, -2.22044605e-16,\n",
       "        6.66133815e-16,  2.00000000e+00,  1.11022302e-16,  1.11022302e-16,\n",
       "        0.00000000e+00,  0.00000000e+00,  1.11022302e-16,  3.00000000e+00,\n",
       "       -1.11022302e-16, -4.44089210e-16,  1.11022302e-16,  2.00000000e+00,\n",
       "       -1.11022302e-16,  4.44089210e-16,  2.00000000e+00,  2.22044605e-16,\n",
       "        1.11022302e-16, -4.44089210e-16, -2.22044605e-16, -2.22044605e-16,\n",
       "        3.00000000e+00, -1.11022302e-16, -2.22044605e-16,  6.66133815e-16,\n",
       "        3.33066907e-16,  3.00000000e+00,  1.11022302e-16,  1.11022302e-16,\n",
       "        2.00000000e+00, -1.11022302e-16,  5.00000000e+00, -2.22044605e-16,\n",
       "        3.33066907e-16,  1.11022302e-16,  1.11022302e-16, -2.22044605e-16,\n",
       "        3.00000000e+00,  4.44089210e-16,  0.00000000e+00,  1.11022302e-16,\n",
       "        5.55111512e-16,  1.11022302e-16,  3.33066907e-16,  1.11022302e-16,\n",
       "        4.44089210e-16,  3.00000000e+00, -1.11022302e-16,  6.66133815e-16,\n",
       "        1.11022302e-16,  1.11022302e-16, -2.22044605e-16,  2.22044605e-16,\n",
       "        3.00000000e+00,  2.22044605e-16,  1.11022302e-16,  3.33066907e-16,\n",
       "        6.66133815e-16, -1.11022302e-16, -1.11022302e-16,  2.22044605e-16,\n",
       "        4.44089210e-16,  4.44089210e-16,  4.44089210e-16,  4.44089210e-16,\n",
       "       -1.11022302e-16,  1.11022302e-16,  6.66133815e-16,  6.66133815e-16,\n",
       "        1.11022302e-16,  5.55111512e-16,  2.22044605e-16, -1.11022302e-16,\n",
       "        5.00000000e+00,  3.00000000e+00, -2.22044605e-16,  1.11022302e-16,\n",
       "       -1.11022302e-16,  4.44089210e-16, -4.44089210e-16,  0.00000000e+00,\n",
       "        3.33066907e-16,  4.44089210e-16,  6.66133815e-16,  1.11022302e-16,\n",
       "        6.66133815e-16,  2.00000000e+00,  2.00000000e+00, -1.11022302e-16,\n",
       "        6.66133815e-16,  1.11022302e-16,  3.33066907e-16,  2.22044605e-16,\n",
       "        1.11022302e-16,  5.55111512e-16, -1.11022302e-16,  1.11022302e-16,\n",
       "        3.33066907e-16,  4.44089210e-16,  2.22044605e-16,  6.66133815e-16,\n",
       "        2.22044605e-16,  3.00000000e+00,  1.11022302e-16,  3.00000000e+00,\n",
       "       -2.22044605e-16,  2.22044605e-16,  3.33066907e-16,  1.11022302e-16,\n",
       "        3.33066907e-16, -1.11022302e-16,  4.44089210e-16,  1.11022302e-16,\n",
       "        6.66133815e-16, -1.11022302e-16,  0.00000000e+00,  3.33066907e-16,\n",
       "        1.00000000e+00,  1.11022302e-16,  5.55111512e-16,  4.44089210e-16,\n",
       "       -1.11022302e-16,  1.11022302e-16,  4.00000000e+00,  2.22044605e-16,\n",
       "        3.33066907e-16, -2.22044605e-16,  2.00000000e+00, -1.11022302e-16,\n",
       "        2.22044605e-16, -2.22044605e-16, -2.22044605e-16,  1.11022302e-16,\n",
       "        2.00000000e+00,  2.22044605e-16, -1.11022302e-16,  2.22044605e-16,\n",
       "       -4.44089210e-16,  0.00000000e+00, -4.44089210e-16,  0.00000000e+00,\n",
       "       -1.11022302e-16,  2.22044605e-16,  3.33066907e-16,  5.55111512e-16,\n",
       "        5.55111512e-16,  4.44089210e-16,  2.22044605e-16,  1.11022302e-16,\n",
       "        1.11022302e-16,  3.00000000e+00,  5.55111512e-16,  2.00000000e+00,\n",
       "        0.00000000e+00,  1.11022302e-16,  1.11022302e-16,  6.66133815e-16,\n",
       "       -2.22044605e-16,  4.44089210e-16, -1.11022302e-16,  0.00000000e+00,\n",
       "        5.55111512e-16,  2.22044605e-16,  1.11022302e-16, -1.11022302e-16,\n",
       "        2.00000000e+00, -1.11022302e-16,  0.00000000e+00,  1.11022302e-16,\n",
       "       -4.44089210e-16,  2.00000000e+00,  3.33066907e-16,  5.55111512e-16,\n",
       "        0.00000000e+00, -2.22044605e-16, -1.11022302e-16,  4.00000000e+00,\n",
       "        0.00000000e+00, -4.44089210e-16,  3.33066907e-16,  6.66133815e-16,\n",
       "        0.00000000e+00,  6.66133815e-16, -2.22044605e-16, -2.22044605e-16,\n",
       "        3.00000000e+00])"
      ]
     },
     "execution_count": 75,
     "metadata": {},
     "output_type": "execute_result"
    }
   ],
   "source": [
    "lm.predict(X_test)"
   ]
  },
  {
   "cell_type": "code",
   "execution_count": 159,
   "metadata": {},
   "outputs": [],
   "source": [
    "sortedDrugs = drugs.sort_values(\"SS\")"
   ]
  },
  {
   "cell_type": "code",
   "execution_count": 174,
   "metadata": {},
   "outputs": [
    {
     "data": {
      "image/png": "[encoded data removed]",
      "text/plain": [
       "<Figure size 432x288 with 1 Axes>"
      ]
     },
     "metadata": {},
     "output_type": "display_data"
    }
   ],
   "source": [
    "import matplotlib.ticker as ticker\n",
    "sortedDrugs = pd.concat([sortedDrugs.Ref, sortedDrugs.SS, sortedDrugs.Gender], axis=1)\n",
    "tab = sortedDrugs.pivot_table(index=[\"Gender\"], \n",
    "                         columns=[\"SS\"],\n",
    "                         values=[\"SS\"],\n",
    "                         aggfunc=\"count\",\n",
    "                         fill_value=0)\n",
    "ax = sortedDrugs.plot(x=\"Gender\", y=\"SS\", rot=90)"
   ]
  },
  {
   "cell_type": "code",
   "execution_count": 98,
   "metadata": {},
   "outputs": [
    {
     "data": {
      "text/plain": [
       "array([<matplotlib.axes._subplots.AxesSubplot object at 0x000001EC8BC6D8D0>],\n",
       "      dtype=object)"
      ]
     },
     "execution_count": 98,
     "metadata": {},
     "output_type": "execute_result"
    }
   ],
   "source": [
    "ax"
   ]
  },
  {
   "cell_type": "code",
   "execution_count": 193,
   "metadata": {},
   "outputs": [
    {
     "data": {
      "text/plain": [
       "<matplotlib.collections.PathCollection at 0x1ec88eec320>"
      ]
     },
     "execution_count": 193,
     "metadata": {},
     "output_type": "execute_result"
    },
    {
     "data": {
      "image/png": "[encoded data removed]",
      "text/plain": [
       "<Figure size 432x288 with 1 Axes>"
      ]
     },
     "metadata": {},
     "output_type": "display_data"
    }
   ],
   "source": [
    "scatterPlot = pd.concat([drugs.Age, drugs.Gender, drugs.SS, drugs.Meth], axis=1)\n",
    "scatterPlot[\"User\"] = scatterPlot.Meth.apply(IsUser)\n",
    "scatterPlot[\"User\"] = scatterPlot[\"User\"].astype(\"int64\")\n",
    "\n",
    "plt.scatter(scatterPlot.SS, scatterPlot.User, alpha=0.2, s=scatterPlot.count()/10)"
   ]
  },
  {
   "cell_type": "code",
   "execution_count": 180,
   "metadata": {},
   "outputs": [
    {
     "name": "stdout",
     "output_type": "stream",
     "text": [
      "<class 'pandas.core.frame.DataFrame'>\n",
      "RangeIndex: 1885 entries, 0 to 1884\n",
      "Data columns (total 5 columns):\n",
      "Age        1885 non-null category\n",
      "Gender     1885 non-null category\n",
      "SS         1885 non-null float64\n",
      "Alcohol    1885 non-null category\n",
      "User       1885 non-null category\n",
      "dtypes: category(4), float64(1)\n",
      "memory usage: 23.2 KB\n"
     ]
    }
   ],
   "source": [
    "scatterPlot.info(=)"
   ]
  },
  {
   "cell_type": "code",
   "execution_count": null,
   "metadata": {},
   "outputs": [],
   "source": []
  }
 ],
 "metadata": {
  "kernelspec": {
   "display_name": "Python 3",
   "language": "python",
   "name": "python3"
  },
  "language_info": {
   "codemirror_mode": {
    "name": "ipython",
    "version": 3
   },
   "file_extension": ".py",
   "mimetype": "text/x-python",
   "name": "python",
   "nbconvert_exporter": "python",
   "pygments_lexer": "ipython3",
   "version": "3.7.0"
  }
 },
 "nbformat": 4,
 "nbformat_minor": 2
}
